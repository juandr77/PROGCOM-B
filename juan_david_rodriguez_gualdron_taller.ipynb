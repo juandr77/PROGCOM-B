{
  "nbformat": 4,
  "nbformat_minor": 0,
  "metadata": {
    "colab": {
      "provenance": [],
      "authorship_tag": "ABX9TyPVXPnON21bDEIfc5ZasnlR",
      "include_colab_link": true
    },
    "kernelspec": {
      "name": "python3",
      "display_name": "Python 3"
    },
    "language_info": {
      "name": "python"
    }
  },
  "cells": [
    {
      "cell_type": "markdown",
      "metadata": {
        "id": "view-in-github",
        "colab_type": "text"
      },
      "source": [
        "<a href=\"https://colab.research.google.com/github/juandr77/PROGCOM-B/blob/main/juan_david_rodriguez_gualdron_taller.ipynb\" target=\"_parent\"><img src=\"https://colab.research.google.com/assets/colab-badge.svg\" alt=\"Open In Colab\"/></a>"
      ]
    },
    {
      "cell_type": "code",
      "execution_count": null,
      "metadata": {
        "id": "kGgAl3Dchbkc"
      },
      "outputs": [],
      "source": [
        "#1.Crear una lista con los cuadrados de los números del 1 al 10.\n",
        "cuadrados = [i ** 2 for i in range(1,11)]\n",
        "cuadrados"
      ]
    },
    {
      "cell_type": "code",
      "source": [
        "#2.Obtener una lista con los números pares del 0 al 20.\n",
        "NumerosPares = [i for i in range(1,21) if i%2 == 0]\n",
        "NumerosPares"
      ],
      "metadata": {
        "id": "jlkD0EYjhrig"
      },
      "execution_count": null,
      "outputs": []
    },
    {
      "cell_type": "code",
      "source": [
        "#3.Crear una lista con el doble de cada número del 1 al 5.\n",
        "NumerosDobles = [i * 2 for i in range(1,6)]\n",
        "NumerosDobles"
      ],
      "metadata": {
        "id": "FBgOu0Dmhrq3"
      },
      "execution_count": null,
      "outputs": []
    },
    {
      "cell_type": "code",
      "source": [
        "#4. De la palabra \"programacion\", obtener solo las vocales.\n",
        "palabra = \"programacion\"\n",
        "vocales = [letra for letra in palabra if letra in \"aeiou\"]\n",
        "vocales"
      ],
      "metadata": {
        "id": "hxAfXAeehrwG"
      },
      "execution_count": null,
      "outputs": []
    },
    {
      "cell_type": "code",
      "source": [
        "#5. Dada la lista [\"python\", \"java\", \"c++\"], obtener otra lista con las palabras en mayúsculas.\n",
        "Programas = [\"python\", \"java\", \"c++\"]\n",
        "Mayúsculas = [i.upper() for i in Programas]\n",
        "Mayúsculas"
      ],
      "metadata": {
        "id": "SMaft58ahry9"
      },
      "execution_count": null,
      "outputs": []
    },
    {
      "cell_type": "code",
      "source": [
        "#6. Crear una lista con \"par\" o \"impar\" para los números del 1 al 10.\n",
        "ListaNumers = [1,2,3,4,5,6,7,8,9,10]\n",
        "clasificacion = [(\"par\",x) if x%2==0 else (\"impar\",x) for x in ListaNumers]\n",
        "clasificacion"
      ],
      "metadata": {
        "id": "QL5yCrDQhr1Y"
      },
      "execution_count": null,
      "outputs": []
    },
    {
      "cell_type": "code",
      "source": [
        "#7. Generar una lista de tuplas con el número y su cuadrado del 1 al 5.\n",
        "ListaNumeros = [1,2,3,4,5]\n",
        "NumerosCuadrados = [(x, \"su cuadrado es\" ,x**2 ) for x in ListaNumeros]\n",
        "NumerosCuadrados"
      ],
      "metadata": {
        "id": "1qE8kbrhhr38"
      },
      "execution_count": null,
      "outputs": []
    },
    {
      "cell_type": "code",
      "source": [
        "#8. Crear una lista con todas las combinaciones de letras en [\"a\",\"b\"] y números en [1,2,3].\n",
        "Letras = [\"a\",\"b\"]\n",
        "Numeros = [1,2,3]\n",
        "Combinados = [(letra,Numero) for letra in Letras for Numero in Numeros]\n",
        "Combinados"
      ],
      "metadata": {
        "id": "R7uBLoe6hr6I"
      },
      "execution_count": null,
      "outputs": []
    },
    {
      "cell_type": "code",
      "source": [
        "#9. De la lista [\"sol\", \"estrella\", \"mar\", \"planeta\"], obtener solo las palabras con más de 4 letras.\n",
        "palabras =[\"sol\", \"estrella\", \"mar\", \"planeta\"]\n",
        "filtro = [i for i in palabras if len(i) < 4]\n",
        "filtro"
      ],
      "metadata": {
        "id": "DaHjqvqLhr8X"
      },
      "execution_count": null,
      "outputs": []
    },
    {
      "cell_type": "code",
      "source": [
        "#10. Clasificar la temperatura de una lista. Si la temperatura es menor a 26, el clima es \"frío\". Si está entre 26 a 29, es \"templado\". Si es mayor a 29, el clima es \"caliente\"\n",
        "n=list(range(1,31))\n",
        "lista10=[(\"frío\",x) if x<26 else (\"templado\",x) if x>=26 and x<=29 else (\"caliente\",x) for x in n]\n",
        "lista10"
      ],
      "metadata": {
        "id": "e9TrddWZhr_Y"
      },
      "execution_count": null,
      "outputs": []
    }
  ]
}