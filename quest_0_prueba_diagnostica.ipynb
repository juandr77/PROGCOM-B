{
  "nbformat": 4,
  "nbformat_minor": 0,
  "metadata": {
    "colab": {
      "provenance": [],
      "toc_visible": true
    },
    "kernelspec": {
      "name": "python3",
      "display_name": "Python 3"
    },
    "language_info": {
      "name": "python"
    }
  },
  "cells": [
    {
      "cell_type": "markdown",
      "source": [],
      "metadata": {
        "id": "rLZLWvH6vzFj"
      }
    },
    {
      "cell_type": "markdown",
      "source": [
        "Ejercicios de seleccion"
      ],
      "metadata": {
        "id": "GZW0xgrorUd3"
      }
    },
    {
      "cell_type": "code",
      "source": [
        "numero= int(input(\"hola , por favor ingresar un numero\"))\n",
        "if numero <0 : print(\"el numero que escibiste es negativo\")\n",
        "else : print(\"el numero que escribiste es positivo\")"
      ],
      "metadata": {
        "colab": {
          "base_uri": "https://localhost:8080/"
        },
        "id": "_p_IHuR1raFf",
        "outputId": "982619dc-367e-4172-ca0a-d9704d53b583"
      },
      "execution_count": 15,
      "outputs": [
        {
          "output_type": "stream",
          "name": "stdout",
          "text": [
            "hola , por favor ingresar un numero-9\n",
            "el numero que escibiste es negativo\n"
          ]
        }
      ]
    },
    {
      "cell_type": "code",
      "source": [
        "edad= int(input(\"hola, por favor ingresar edad\"))\n",
        "if edad >=18 : print(\"es mayor de edad\")\n",
        "else : print(\"es menor de edad\")"
      ],
      "metadata": {
        "colab": {
          "base_uri": "https://localhost:8080/"
        },
        "id": "mtwz7EFKu-_N",
        "outputId": "d614c36a-ef37-4566-f020-5222ec480e2d"
      },
      "execution_count": 17,
      "outputs": [
        {
          "output_type": "stream",
          "name": "stdout",
          "text": [
            "hola, por favor ingresar edad19\n",
            "es mayor de edad\n"
          ]
        }
      ]
    },
    {
      "cell_type": "code",
      "source": [
        "numero1= int(input(\"hola por favor ingresar un numeor a el azar\"))\n",
        "numero2= int(input(\"ahora digita el segundo numero\"))\n",
        "if numero1>numero2 : print(\"el mayor es...\",numero1)\n",
        "else : print(\"el mayor es...\",numero2)"
      ],
      "metadata": {
        "colab": {
          "base_uri": "https://localhost:8080/"
        },
        "id": "BTFqiiTfvvWV",
        "outputId": "2f32f0b6-7798-4853-9f80-e89c552629cf"
      },
      "execution_count": 22,
      "outputs": [
        {
          "output_type": "stream",
          "name": "stdout",
          "text": [
            "hola por favor ingresar un numeor a el azar4\n",
            "ahora digita el segundo numero5\n",
            "el mayor es... 5\n"
          ]
        }
      ]
    },
    {
      "cell_type": "code",
      "source": [
        "calificacion = int(input(\"hola, por favor ingresa tu calificacion\"))\n",
        "if calificacion >60 : print(\"felicidades aprovaste\")\n",
        "else : print(\"haz desaprovado\")"
      ],
      "metadata": {
        "colab": {
          "base_uri": "https://localhost:8080/"
        },
        "id": "RPv8c1A6vxlb",
        "outputId": "472dda4b-c666-4f71-cff9-b6036539ca50"
      },
      "execution_count": 27,
      "outputs": [
        {
          "output_type": "stream",
          "name": "stdout",
          "text": [
            "hola, por favor ingresa tu calificacion120\n",
            "felicidades aprovaste\n"
          ]
        }
      ]
    },
    {
      "cell_type": "code",
      "source": [
        "numero = int(input(\"digite un numero a el azar\"))\n",
        "if numero%2 : print(\"su numero es impar\")\n",
        "else : print(\"su numero es par\")"
      ],
      "metadata": {
        "colab": {
          "base_uri": "https://localhost:8080/"
        },
        "id": "e-Ccyfj_yJqy",
        "outputId": "2e2ab6ba-24d0-49fe-edd2-6d02bb0a6c0f"
      },
      "execution_count": 30,
      "outputs": [
        {
          "output_type": "stream",
          "name": "stdout",
          "text": [
            "digite un numero a el azar3\n",
            "su numero es impar\n"
          ]
        }
      ]
    },
    {
      "cell_type": "code",
      "source": [
        "numero1 = int(input(\"digite un numero a el azar\"))\n",
        "numero2 = int(input(\"digite el segundo numero\"))\n",
        "numero3 = int(input(\"digite uel tercer numero\"))\n",
        "if numero1>numero2>numero3 : print(\"el numero mayor es...\",numero1)\n",
        "if numero1<numero2>numero3 : print(\"el numero mayor es...\",numero2)\n",
        "else: print(\"el numero mayor es...\",numero3)"
      ],
      "metadata": {
        "colab": {
          "base_uri": "https://localhost:8080/"
        },
        "id": "BP54XhNLzatY",
        "outputId": "1cc060f9-decb-411d-a390-8c958a25305a"
      },
      "execution_count": 38,
      "outputs": [
        {
          "output_type": "stream",
          "name": "stdout",
          "text": [
            "digite un numero a el azar45\n",
            "digite el segundo numero84\n",
            "digite uel tercer numero22\n",
            "el numero mayor es... 84\n"
          ]
        }
      ]
    },
    {
      "cell_type": "code",
      "source": [
        "Año = int(input(\"digite el año a consultar\"))\n",
        "if Año%4 : print(\"el año es viciesto\")\n",
        "else : print(\"el año no es viciesto\")"
      ],
      "metadata": {
        "colab": {
          "base_uri": "https://localhost:8080/"
        },
        "id": "MFqjr-1s0Fww",
        "outputId": "8fd9afe4-d012-42ab-d766-2d38197e602e"
      },
      "execution_count": 48,
      "outputs": [
        {
          "output_type": "stream",
          "name": "stdout",
          "text": [
            "digite el año a consultar2029\n",
            "el año es viciesto\n"
          ]
        }
      ]
    }
  ]
}