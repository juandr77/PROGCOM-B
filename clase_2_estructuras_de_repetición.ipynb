{
  "cells": [
    {
      "cell_type": "markdown",
      "metadata": {
        "id": "view-in-github",
        "colab_type": "text"
      },
      "source": [
        "<a href=\"https://colab.research.google.com/github/juandr77/PROGCOM-B/blob/main/clase_2_estructuras_de_repetici%C3%B3n.ipynb\" target=\"_parent\"><img src=\"https://colab.research.google.com/assets/colab-badge.svg\" alt=\"Open In Colab\"/></a>"
      ]
    },
    {
      "cell_type": "markdown",
      "source": [
        "#estructuras de repeticion\n",
        "se emplea cuando se decea repetir una parte de el codigo, dad una condicion\n",
        "\n"
      ],
      "metadata": {
        "id": "Td8b62KGlsS2"
      }
    },
    {
      "cell_type": "markdown",
      "source": [
        "#estructura para - for\n",
        "se usa cuando\n",
        "*  se sabe **cuantas veces** se repite una accion.\n",
        "**contador**: identifica cuantas veces se va a repetir el bucle y con que frecuencia.\n",
        "**condicion**: evalua cuando se detiene.\n",
        "por definicion:\n",
        "\n",
        "\n",
        "```\n",
        "for variable in range(vi, vf+1, paso):\n",
        "aqui se repite parte del codigo.\n",
        "```\n",
        "donde\n",
        "1. vi: condicion inicial. donde arranco a contar.\n",
        "2. vf+1: condicion final. donde dejo de contar +1.\n",
        "3. paso: frecuensia de conteo.\n",
        "\n",
        "for para recorrido de listas\n",
        "flor=[\"amapola\", \"rosa\", \"tulipan\", \"orquidea\"]\n",
        "*el va a iterar tantas veces como elementos tenga la lista\n",
        "*variable dentro de el para, toma como vaor, cada elemento de la lista\n",
        "```\n",
        "for variable in lista:\n",
        "   variable\n",
        "```\n",
        "\n",
        "\n",
        "\n",
        "\n"
      ],
      "metadata": {
        "id": "cLUx_D77l9j1"
      }
    },
    {
      "cell_type": "code",
      "source": [
        "#creanado una lista de nombre flor\n",
        "flor=[\"amapola\", \"rosa\", \"tulipan\", \"orquidea\"]\n",
        "flores=5\n",
        "for flores in flor:\n",
        "  print(flores)\n",
        "  if flores==\"tulipan\":\n",
        "    break\n",
        ""
      ],
      "metadata": {
        "colab": {
          "base_uri": "https://localhost:8080/"
        },
        "id": "r9XGW26109Gv",
        "outputId": "f4aa8897-a82d-4ecf-b631-f3686c3739fb"
      },
      "execution_count": 25,
      "outputs": [
        {
          "output_type": "stream",
          "name": "stdout",
          "text": [
            "amapola\n",
            "rosa\n",
            "tulipan\n"
          ]
        }
      ]
    },
    {
      "cell_type": "markdown",
      "source": [
        "#estructura while\n",
        "* se emplea cuando **no se sabe** cuantas veces de debe repsetir una accion, pero, si se conoce su condicion de parada (CP).\n",
        "*condicion inicial: donde arranca el ciclo.\n",
        "*condicion final(parada):indica donde se detiene el ciclo.\n",
        "*modificador de condicion inicial:\n",
        "\n",
        "ESTRUCTURA GENERAL DEL MIENTRAS\n",
        "\n",
        "\n",
        "```\n",
        "CONDICION INICIAL\n",
        "WHILE (CONDICION==CONDICION FINAL):\n",
        "MODIFICADOR DE CONDICION INICIAL\n",
        "```\n",
        "MODIFICADORES DE CONDICION INICIAL\n",
        "*BANDERAS: SON BOOLEANOS\n",
        "*SON PREGUNTAS\n",
        "*SON CONTADORES O ACUMULADORES\n",
        "\n",
        "\n",
        "\n"
      ],
      "metadata": {
        "id": "ObwfENyE2uBG"
      }
    },
    {
      "cell_type": "markdown",
      "source": [
        "#"
      ],
      "metadata": {
        "id": "UD7sus1N1-Em"
      }
    },
    {
      "cell_type": "markdown",
      "source": [
        "##listas\n",
        "conjunto de tipo de datos, **indexado** , separado por comas, y encerrado entre [].\n",
        "* todos los elementos dentro de una lista se empiezan a contar desde 0.\n",
        "##creacion de listas\n",
        "*forma general: lista=[]\n",
        "*forma manual: animales=[\"gato\",\"perro\",\"zorro\", \"oso\"]\n",
        "*por convercion: numero=list(range(10))\n",
        "\n",
        "\n"
      ],
      "metadata": {
        "id": "wzNtj0YVwOOd"
      }
    },
    {
      "cell_type": "markdown",
      "source": [],
      "metadata": {
        "id": "Y-Z5ENZBl9MN"
      }
    },
    {
      "cell_type": "markdown",
      "source": [],
      "metadata": {
        "id": "tzopaIUfl9UN"
      }
    },
    {
      "cell_type": "code",
      "source": [
        "zorro=(1,2,3,4)\n",
        "animales=[\"gato\",\"perro\",zorro,\"oso\"]\n",
        "animales"
      ],
      "metadata": {
        "id": "IlKjVJNjggNy",
        "colab": {
          "base_uri": "https://localhost:8080/"
        },
        "outputId": "9d1c4d23-e20f-4385-b6c2-188ff0a2c7be"
      },
      "execution_count": 3,
      "outputs": [
        {
          "output_type": "execute_result",
          "data": {
            "text/plain": [
              "['gato', 'perro', (1, 2, 3, 4), 'oso']"
            ]
          },
          "metadata": {},
          "execution_count": 3
        }
      ]
    },
    {
      "cell_type": "code",
      "source": [
        "type(zorro)"
      ],
      "metadata": {
        "id": "O2p-f0WSggPq",
        "colab": {
          "base_uri": "https://localhost:8080/"
        },
        "outputId": "d5b95528-c226-4819-d944-e739b78e61b2"
      },
      "execution_count": 6,
      "outputs": [
        {
          "output_type": "execute_result",
          "data": {
            "text/plain": [
              "tuple"
            ]
          },
          "metadata": {},
          "execution_count": 6
        }
      ]
    },
    {
      "cell_type": "code",
      "source": [
        "type(lista)"
      ],
      "metadata": {
        "colab": {
          "base_uri": "https://localhost:8080/",
          "height": 141
        },
        "id": "iDnxPQ-0yice",
        "outputId": "1e1ab5a4-d367-480d-91d8-9758cdf7249a"
      },
      "execution_count": 8,
      "outputs": [
        {
          "output_type": "error",
          "ename": "NameError",
          "evalue": "name 'lista' is not defined",
          "traceback": [
            "\u001b[0;31m---------------------------------------------------------------------------\u001b[0m",
            "\u001b[0;31mNameError\u001b[0m                                 Traceback (most recent call last)",
            "\u001b[0;32m/tmp/ipython-input-1408409123.py\u001b[0m in \u001b[0;36m<cell line: 0>\u001b[0;34m()\u001b[0m\n\u001b[0;32m----> 1\u001b[0;31m \u001b[0mtype\u001b[0m\u001b[0;34m(\u001b[0m\u001b[0mlista\u001b[0m\u001b[0;34m)\u001b[0m\u001b[0;34m\u001b[0m\u001b[0;34m\u001b[0m\u001b[0m\n\u001b[0m",
            "\u001b[0;31mNameError\u001b[0m: name 'lista' is not defined"
          ]
        }
      ]
    },
    {
      "cell_type": "code",
      "source": [
        "numero=list(range(10))\n",
        "numero"
      ],
      "metadata": {
        "colab": {
          "base_uri": "https://localhost:8080/"
        },
        "id": "VWTi6GPmyiRx",
        "outputId": "4367d2b5-61ee-4309-c2f6-4c5ed409498f"
      },
      "execution_count": 13,
      "outputs": [
        {
          "output_type": "execute_result",
          "data": {
            "text/plain": [
              "[0, 1, 2, 3, 4, 5, 6, 7, 8, 9]"
            ]
          },
          "metadata": {},
          "execution_count": 13
        }
      ]
    },
    {
      "cell_type": "code",
      "source": [
        "type(range(10))"
      ],
      "metadata": {
        "colab": {
          "base_uri": "https://localhost:8080/"
        },
        "id": "Pkcb_j85yiH6",
        "outputId": "b7fc6245-57d5-4ceb-e6c4-2b67ffc8fcb6"
      },
      "execution_count": 14,
      "outputs": [
        {
          "output_type": "execute_result",
          "data": {
            "text/plain": [
              "range"
            ]
          },
          "metadata": {},
          "execution_count": 14
        }
      ]
    }
  ],
  "metadata": {
    "colab": {
      "provenance": [],
      "include_colab_link": true
    },
    "kernelspec": {
      "display_name": "Python 3",
      "name": "python3"
    }
  },
  "nbformat": 4,
  "nbformat_minor": 0
}