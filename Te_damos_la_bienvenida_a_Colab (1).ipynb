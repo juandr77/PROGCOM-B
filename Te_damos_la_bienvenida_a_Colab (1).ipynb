{
  "cells": [
    {
      "cell_type": "markdown",
      "source": [
        "#estructuras de seleccion\n",
        "se emplean cuando quiero evaluar una condicion"
      ],
      "metadata": {
        "id": "eGoW-qnWMK5S"
      }
    },
    {
      "cell_type": "markdown",
      "source": [
        "#estructura if-else\n",
        "\n",
        "\n",
        "\n",
        "\n",
        "\n",
        "if(condicion):\n",
        "  entro aqui si la condicion dio verdadero\n",
        "else:\n",
        "entro aqui si la condicion dio falso\n"
      ],
      "metadata": {
        "id": "iRl-XLdyMaNS"
      }
    },
    {
      "cell_type": "code",
      "source": [
        "#1. es divisible entre 4\n",
        "#2. es divisible entre 400 pero no entre 100\n",
        "año:int(input(\"intridusca año\"))\n",
        "if (año%4==0 and año%100!=0):\n",
        "  print(f\"{año} es un año visiesto\")\n",
        "else:\n",
        "   if año%400==0:\n",
        "  print(f\"{año} es un año visiesto\")\n",
        "else:\n",
        "  print(f\"{año}es un año visiesto\")\n"
      ],
      "metadata": {
        "colab": {
          "base_uri": "https://localhost:8080/",
          "height": 106
        },
        "id": "EoW_NQAOMWVx",
        "outputId": "d2bcfd85-4040-4512-cb76-13cff8c43a92"
      },
      "execution_count": 2,
      "outputs": [
        {
          "output_type": "error",
          "ename": "IndentationError",
          "evalue": "expected an indented block after 'if' statement on line 7 (ipython-input-3860156422.py, line 8)",
          "traceback": [
            "\u001b[0;36m  File \u001b[0;32m\"/tmp/ipython-input-3860156422.py\"\u001b[0;36m, line \u001b[0;32m8\u001b[0m\n\u001b[0;31m    print(f\"{año}es un año visiesto\")\u001b[0m\n\u001b[0m    ^\u001b[0m\n\u001b[0;31mIndentationError\u001b[0m\u001b[0;31m:\u001b[0m expected an indented block after 'if' statement on line 7\n"
          ]
        }
      ]
    },
    {
      "cell_type": "code",
      "source": [
        "if año%4==0 and año100!=0: print(f\"{año} es un año bisiesto\")\n",
        "elif año%400==0: print(f\"{año} es un año bisiesto\")\n",
        "else:print(f\"{año} no un año bisiesto\")\n"
      ],
      "metadata": {
        "id": "ZQoL7txZRN83"
      },
      "execution_count": null,
      "outputs": []
    },
    {
      "cell_type": "markdown",
      "source": [
        "if (cond1):\n",
        "  si cond1 es verdadero, entro aquí\n",
        "elif (cond2):\n",
        "  si cond1 es falso, PERO cond2 es verdadero, entro aquí\n",
        "elif (cond3):\n",
        "  si cond1, cond2 son falsos, PERO cond3 es verdadero, entro aquí\n",
        "else: si cond1 y cond2 y cond3 y cond n son falsas, entrará aquí"
      ],
      "metadata": {
        "id": "roeBTtpaSnn9"
      }
    },
    {
      "cell_type": "markdown",
      "source": [
        "# Sección nueva"
      ],
      "metadata": {
        "id": "9F7Q4QFvRlfm"
      }
    },
    {
      "cell_type": "code",
      "source": [
        "a=print(f\"{año} es un año visiesto\")if (año%4==0 and año%100!=0) else (print(f\"{año} es un año visiesto\")ifaño%400==0 elseprint(f\"{año}es un año visiesto\"))\n",
        "b=(f\"{año} es un año visiesto\")if año%400==0 else print(f\"{año}es un año visiesto\")\n",
        "print(a)\n"
      ],
      "metadata": {
        "colab": {
          "base_uri": "https://localhost:8080/",
          "height": 106
        },
        "id": "o8BIZqBvROZe",
        "outputId": "d096b422-ad62-412a-8ee9-555e8af5620e"
      },
      "execution_count": 11,
      "outputs": [
        {
          "output_type": "error",
          "ename": "SyntaxError",
          "evalue": "invalid syntax. Perhaps you forgot a comma? (ipython-input-3840388899.py, line 1)",
          "traceback": [
            "\u001b[0;36m  File \u001b[0;32m\"/tmp/ipython-input-3840388899.py\"\u001b[0;36m, line \u001b[0;32m1\u001b[0m\n\u001b[0;31m    a=print(f\"{año} es un año visiesto\")if (año%4==0 and año%100!=0) else ( print(f\"{año} es un año visiesto\")ifaño%400==0 elseprint(f\"{año}es un año visiesto\"))\u001b[0m\n\u001b[0m                                                                            ^\u001b[0m\n\u001b[0;31mSyntaxError\u001b[0m\u001b[0;31m:\u001b[0m invalid syntax. Perhaps you forgot a comma?\n"
          ]
        }
      ]
    },
    {
      "cell_type": "markdown",
      "source": [
        "#operador terneario\n",
        "programar una estrucura de seleccion en una sola linea de codigo\n",
        "\n",
        "\n",
        "(lo que se debe ejecutar si la condicion es verdadera if(condicion)else( lo que se debe ejecutar, si la seleccion es falsa)"
      ],
      "metadata": {
        "id": "CMv3K0MoVjsU"
      }
    },
    {
      "cell_type": "code",
      "source": [
        "#if-else\n",
        "n=int(input(\"Ingrese un numero: \"))\n",
        "if n>0:\n",
        "  print(f\"El {n} es postivo\")\n",
        "else:\n",
        "  print(f\"El {n} es negativo\")"
      ],
      "metadata": {
        "id": "C5eumIYrROdH"
      },
      "execution_count": null,
      "outputs": []
    },
    {
      "cell_type": "code",
      "source": [
        "#if-elif-else\n",
        "n=int(input(\"Ingrese un numero: \"))\n",
        "if n>0:\n",
        "  print(f\"El {n} es postivo\")\n",
        "elif n==0:\n",
        "  print(f\"El {n} es cero\")\n",
        "else:\n",
        "  print(f\"El {n} es negativo\")"
      ],
      "metadata": {
        "id": "D80JmjyTXWuq"
      },
      "execution_count": null,
      "outputs": []
    },
    {
      "cell_type": "code",
      "source": [
        "#if-else\n",
        "n=int(input(\"Ingresar edad:\"))\n",
        "if n>=18:\n",
        "  print(\"Usted es mayor de edad\")\n",
        "else:\n",
        "  print(\"Usted es menor de edad\")"
      ],
      "metadata": {
        "id": "YJ01klkmXWxB"
      },
      "execution_count": null,
      "outputs": []
    },
    {
      "cell_type": "code",
      "source": [
        "#if-elif-else\n",
        "n=int(input(\"Ingresar edad:\"))\n",
        "if n>18:\n",
        "  print(\"Usted es mayor de edad\")\n",
        "elif n==18:\n",
        "  print(\"Usted es mayor de edad\")\n",
        "else:\n",
        "  print(\"Usted es menor de edad\")"
      ],
      "metadata": {
        "id": "MKKa55_TXWz6"
      },
      "execution_count": null,
      "outputs": []
    },
    {
      "cell_type": "code",
      "source": [
        "#if-else\n",
        "n=int(input(\"ingresarnumeroa\"))\n",
        "l=int(input(\"ingresarnumeroa\"))\n",
        "if n>1 :\n",
        "  print(f\"(el numero{n}es mayor que[l]\")\n",
        "else:print(f\"(el numero{n}es mayor que[l]\")"
      ],
      "metadata": {
        "colab": {
          "base_uri": "https://localhost:8080/"
        },
        "id": "4y0Q_sZdXW2c",
        "outputId": "ff9db711-1524-49b4-a91c-2adf835b08ba"
      },
      "execution_count": 14,
      "outputs": [
        {
          "output_type": "stream",
          "name": "stdout",
          "text": [
            "ingresarnumeroa2\n",
            "ingresarnumeroa3\n",
            "(el numero2es mayor que[l]\n"
          ]
        }
      ]
    },
    {
      "cell_type": "code",
      "source": [
        "#if-elif-else\n",
        "n=int(input(\"ingresarnumeroa\"))\n",
        "l=int(input(\"ingresarnumeroa\"))\n",
        "if n>1 :\n",
        "  print(f\"(el numero{n}es mayor que[l]\")\n",
        "elif:\n",
        "  n<0 and 1<0 print(f\"el numero\")\n",
        "else:\n",
        "  print(f\"(el numero{n}es mayor que[l]\")\n"
      ],
      "metadata": {
        "colab": {
          "base_uri": "https://localhost:8080/",
          "height": 106
        },
        "id": "9kgUZxFvXW41",
        "outputId": "c4dbed83-0ad3-4c75-ab9f-1d1b14be5587"
      },
      "execution_count": 19,
      "outputs": [
        {
          "output_type": "error",
          "ename": "SyntaxError",
          "evalue": "invalid syntax (ipython-input-1599577174.py, line 6)",
          "traceback": [
            "\u001b[0;36m  File \u001b[0;32m\"/tmp/ipython-input-1599577174.py\"\u001b[0;36m, line \u001b[0;32m6\u001b[0m\n\u001b[0;31m    elif\u001b[0m\n\u001b[0m        ^\u001b[0m\n\u001b[0;31mSyntaxError\u001b[0m\u001b[0;31m:\u001b[0m invalid syntax\n"
          ]
        }
      ]
    },
    {
      "cell_type": "code",
      "source": [],
      "metadata": {
        "id": "N_FN1wTMXW7N"
      },
      "execution_count": null,
      "outputs": []
    },
    {
      "cell_type": "code",
      "source": [],
      "metadata": {
        "id": "W5_SXa6BXW9q"
      },
      "execution_count": null,
      "outputs": []
    },
    {
      "cell_type": "code",
      "source": [],
      "metadata": {
        "id": "dSmZoqcjXXAq"
      },
      "execution_count": null,
      "outputs": []
    },
    {
      "cell_type": "code",
      "source": [],
      "metadata": {
        "id": "iRaJ-ZwoXXC8"
      },
      "execution_count": null,
      "outputs": []
    },
    {
      "cell_type": "code",
      "source": [],
      "metadata": {
        "id": "DV8lHoXnXXFV"
      },
      "execution_count": null,
      "outputs": []
    },
    {
      "cell_type": "code",
      "source": [],
      "metadata": {
        "id": "C8MrJnBdROfu"
      },
      "execution_count": null,
      "outputs": []
    },
    {
      "cell_type": "markdown",
      "source": [
        "#estructura de desicion multiple if-elif-else\n",
        "se emplea cuando hay mas de una desicion\n",
        "\n",
        "\n",
        "\n",
        "if(cond1)\n",
        "si cond1 es verdadero, entro aqui\n",
        "elif(cond2)\n",
        "si cond1 es falso, pero cond 2 es verdadero, entro aqui\n",
        "elif(cond3):\n",
        "si cond1 y cond2 son falso, PERO cond3 es verdadero, entro aqui\n",
        "else:si cond1 y cond2 y cond3 son  falsas,entara aqui\n"
      ],
      "metadata": {
        "id": "yA5EKOaJPcr5"
      }
    }
  ],
  "metadata": {
    "colab": {
      "name": "Te damos la bienvenida a Colab",
      "provenance": []
    },
    "kernelspec": {
      "display_name": "Python 3",
      "name": "python3"
    }
  },
  "nbformat": 4,
  "nbformat_minor": 0
}