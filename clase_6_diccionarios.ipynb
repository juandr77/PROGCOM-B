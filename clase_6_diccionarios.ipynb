{
  "nbformat": 4,
  "nbformat_minor": 0,
  "metadata": {
    "colab": {
      "provenance": [],
      "include_colab_link": true
    },
    "kernelspec": {
      "name": "python3",
      "display_name": "Python 3"
    },
    "language_info": {
      "name": "python"
    }
  },
  "cells": [
    {
      "cell_type": "markdown",
      "metadata": {
        "id": "view-in-github",
        "colab_type": "text"
      },
      "source": [
        "<a href=\"https://colab.research.google.com/github/juandr77/PROGCOM-B/blob/main/clase_6_diccionarios.ipynb\" target=\"_parent\"><img src=\"https://colab.research.google.com/assets/colab-badge.svg\" alt=\"Open In Colab\"/></a>"
      ]
    },
    {
      "cell_type": "markdown",
      "source": [
        "##Diccionarios\n",
        "Estructura de datos que almacena valores\n",
        "\n",
        "Sintaxis\n",
        "\n",
        "```\n",
        "nombre_diccionario={\"llave\":valor}\n",
        "```\n",
        "* llave: **Siempre** tiene que ser alfanumérica\n",
        "* valor: Cualquier tipo de dato\n"
      ],
      "metadata": {
        "id": "AUOJ3yFCbL7J"
      }
    },
    {
      "cell_type": "code",
      "source": [
        "liga_justicia={\"superhéroe\":[\"Batman\",\"Superman\",\"WonderWoman\"], \"identidades\":[\"Bruce Wayne\",\"Clark Kent\",\"Diana Price\"]}"
      ],
      "metadata": {
        "id": "v3JZ14_scV34"
      },
      "execution_count": null,
      "outputs": []
    },
    {
      "cell_type": "code",
      "source": [
        "type(liga_justicia)"
      ],
      "metadata": {
        "colab": {
          "base_uri": "https://localhost:8080/"
        },
        "id": "-f733p6bc4La",
        "outputId": "1d0c0111-7d90-41fa-d50e-db4569e3870d"
      },
      "execution_count": null,
      "outputs": [
        {
          "output_type": "execute_result",
          "data": {
            "text/plain": [
              "dict"
            ]
          },
          "metadata": {},
          "execution_count": 31
        }
      ]
    },
    {
      "cell_type": "code",
      "source": [
        "liga_justicia"
      ],
      "metadata": {
        "colab": {
          "base_uri": "https://localhost:8080/"
        },
        "id": "58Cp3RnYdKy_",
        "outputId": "a36bbb01-af6f-4a65-fe9a-12511c540111"
      },
      "execution_count": null,
      "outputs": [
        {
          "output_type": "execute_result",
          "data": {
            "text/plain": [
              "{'superhéroe': ['Batman', 'Superman', 'WonderWoman'],\n",
              " 'identidades': ['Bruce Wayne', 'Clark Kent', 'Diana Price']}"
            ]
          },
          "metadata": {},
          "execution_count": 32
        }
      ]
    },
    {
      "cell_type": "markdown",
      "source": [
        "Los diccionarios **NO** Tienen indexación"
      ],
      "metadata": {
        "id": "gVvffWGoeJj2"
      }
    },
    {
      "cell_type": "code",
      "source": [
        "liga_justicia[\"identidades\"][2]"
      ],
      "metadata": {
        "colab": {
          "base_uri": "https://localhost:8080/",
          "height": 35
        },
        "id": "THAZhHL-drke",
        "outputId": "7d92d6d0-f90b-4e52-c026-f8db37619fc8"
      },
      "execution_count": null,
      "outputs": [
        {
          "output_type": "execute_result",
          "data": {
            "text/plain": [
              "'Diana Price'"
            ],
            "application/vnd.google.colaboratory.intrinsic+json": {
              "type": "string"
            }
          },
          "metadata": {},
          "execution_count": 33
        }
      ]
    },
    {
      "cell_type": "markdown",
      "source": [
        "* Funcion clear:\n",
        "El clear método elimina todos los elementos de una lista.\n",
        "\n",
        "Sintaxis:\n",
        "```\n",
        "diccionario.clear()\n",
        "```"
      ],
      "metadata": {
        "id": "8MJY17ksrUc5"
      }
    },
    {
      "cell_type": "code",
      "source": [
        "liga_justicia.clear()\n",
        "liga_justicia"
      ],
      "metadata": {
        "colab": {
          "base_uri": "https://localhost:8080/"
        },
        "id": "UTcEyuepranc",
        "outputId": "9d741cc5-fdaa-4f3c-f581-e90b9b66d563"
      },
      "execution_count": null,
      "outputs": [
        {
          "output_type": "execute_result",
          "data": {
            "text/plain": [
              "{}"
            ]
          },
          "metadata": {},
          "execution_count": 62
        }
      ]
    },
    {
      "cell_type": "markdown",
      "source": [
        "* Función copy: El copy método devuelve una copia de la lista especificada.\n",
        "Sintáxis:\n",
        "\n",
        "\n",
        "```\n",
        "diccionario.copy()\n",
        "```\n",
        "\n"
      ],
      "metadata": {
        "id": "XMxplSGorc7Z"
      }
    },
    {
      "cell_type": "code",
      "source": [
        "justicia_joven={}\n",
        "justicia_joven=liga_justicia.copy()\n",
        "justicia_joven"
      ],
      "metadata": {
        "colab": {
          "base_uri": "https://localhost:8080/"
        },
        "id": "7WOe-HtnrfAh",
        "outputId": "f8ddccf1-562f-4fe0-899d-1e8fa83f9187"
      },
      "execution_count": null,
      "outputs": [
        {
          "output_type": "execute_result",
          "data": {
            "text/plain": [
              "{}"
            ]
          },
          "metadata": {},
          "execution_count": 63
        }
      ]
    },
    {
      "cell_type": "markdown",
      "source": [
        "* Función fromkeys: El fromkeys método devuelve un diccionario con las claves especificadas y el valor especificado.\n",
        "sintáxis:\n",
        "\n",
        "\n",
        "```\n",
        "dict.fromkeys(keys, value)\n",
        "```\n"
      ],
      "metadata": {
        "id": "0AOTvWTLrkbp"
      }
    },
    {
      "cell_type": "code",
      "source": [
        "liga_justicia.fromkeys([\"superheroes\",\"identidades\"],\"DC\")"
      ],
      "metadata": {
        "colab": {
          "base_uri": "https://localhost:8080/"
        },
        "id": "GVuAHGmbrlKd",
        "outputId": "9c565724-36cf-4fd0-8fad-b27ee004b9aa"
      },
      "execution_count": null,
      "outputs": [
        {
          "output_type": "execute_result",
          "data": {
            "text/plain": [
              "{'superheroes': 'DC', 'identidades': 'DC'}"
            ]
          },
          "metadata": {},
          "execution_count": 64
        }
      ]
    },
    {
      "cell_type": "code",
      "source": [
        "liga_justicia"
      ],
      "metadata": {
        "colab": {
          "base_uri": "https://localhost:8080/"
        },
        "id": "JUp1y-vzronJ",
        "outputId": "79ace604-aeca-42e4-8f5c-dd064bcaba59"
      },
      "execution_count": null,
      "outputs": [
        {
          "output_type": "execute_result",
          "data": {
            "text/plain": [
              "{}"
            ]
          },
          "metadata": {},
          "execution_count": 65
        }
      ]
    },
    {
      "cell_type": "code",
      "source": [
        "DC=[\"Batman\",\"Superman\",\"WonderWoman\"]\n",
        "liga=dict.fromkeys(DC)"
      ],
      "metadata": {
        "id": "5n8hf4KfrqxZ"
      },
      "execution_count": null,
      "outputs": []
    },
    {
      "cell_type": "code",
      "source": [
        "liga"
      ],
      "metadata": {
        "colab": {
          "base_uri": "https://localhost:8080/"
        },
        "id": "KrgVDl7ertfZ",
        "outputId": "435c1864-fdb0-41f4-fee2-eaaf487b42f9"
      },
      "execution_count": null,
      "outputs": [
        {
          "output_type": "execute_result",
          "data": {
            "text/plain": [
              "{'Batman': None, 'Superman': None, 'WonderWoman': None}"
            ]
          },
          "metadata": {},
          "execution_count": 67
        }
      ]
    },
    {
      "cell_type": "markdown",
      "source": [
        "* Función get: El get método devuelve el valor del elemento con la clave especificada.\n",
        "Funcion:\n",
        "\n",
        "\n",
        "```\n",
        "dictionario.get(keyname, value)\n",
        "```\n",
        "\n"
      ],
      "metadata": {
        "id": "hrgKxB47ry1i"
      }
    },
    {
      "cell_type": "code",
      "source": [
        "liga_justicia.get(\"identidades\")"
      ],
      "metadata": {
        "id": "rKV1nB2bsxVg"
      },
      "execution_count": null,
      "outputs": []
    },
    {
      "cell_type": "markdown",
      "source": [
        "\n",
        "* items(): Es un método de los diccionarios que devuelve un objeto vista que contiene todos los pares clave-valor del diccionario en forma de tuplas. (tuplas=colección de elementos ordenada)\n",
        "\n",
        "```\n",
        "diccionario.items():\n",
        "```\n",
        "\n",
        "\n",
        "\n"
      ],
      "metadata": {
        "id": "g7qmqXGEgP_n"
      }
    },
    {
      "cell_type": "code",
      "source": [
        "liga_justicia={\"superhéroe\":[\"Batman\",\"Superman\",\"WonderWoman\"], \"identidades\":[\"Bruce Wayne\",\"Clark Kent\",\"Diana Price\"]}\n",
        "for superhéroe, identidades in liga_justicia.items():\n",
        "    print(f\"La clave es: {superhéroe}, y el valor es: {identidades}\")"
      ],
      "metadata": {
        "colab": {
          "base_uri": "https://localhost:8080/"
        },
        "id": "k6JmUB4kh0Mi",
        "outputId": "e3949cca-7013-4861-9698-31f510729a63"
      },
      "execution_count": null,
      "outputs": [
        {
          "output_type": "stream",
          "name": "stdout",
          "text": [
            "La clave es: superhéroe, y el valor es: ['Batman', 'Superman', 'WonderWoman']\n",
            "La clave es: identidades, y el valor es: ['Bruce Wayne', 'Clark Kent', 'Diana Price']\n"
          ]
        }
      ]
    },
    {
      "cell_type": "markdown",
      "source": [
        "* keys(): es un método de los diccionarios que devuelve un objeto de vista que contiene todas las claves del diccionario.\n",
        "\n",
        "\n",
        "```\n",
        "diccionario.keys():\n",
        "```\n",
        "\n"
      ],
      "metadata": {
        "id": "1G4BR5Tzi3sa"
      }
    },
    {
      "cell_type": "code",
      "source": [
        "liga_justicia={\"superhéroe\":[\"Batman\",\"Superman\",\"WonderWoman\"], \"identidades\":[\"Bruce Wayne\",\"Clark Kent\",\"Diana Price\"]}\n",
        "claves= liga_justicia.keys()\n",
        "print(claves)"
      ],
      "metadata": {
        "colab": {
          "base_uri": "https://localhost:8080/"
        },
        "id": "yPyFNjLii23T",
        "outputId": "ad5e8034-171f-4023-b0a4-6c42e701f95d"
      },
      "execution_count": null,
      "outputs": [
        {
          "output_type": "stream",
          "name": "stdout",
          "text": [
            "dict_keys(['superhéroe', 'identidades'])\n"
          ]
        }
      ]
    },
    {
      "cell_type": "markdown",
      "source": [
        "* pop(): es un método que se usa en listas y diccionarios para eliminar y devolver un elemento, ya sea por su índice (en listas) o por su clave (en diccionarios).\n",
        "\n",
        "```\n",
        "diccionario.pop():\n",
        "```\n",
        "\n"
      ],
      "metadata": {
        "id": "gA6mNOsHjoMi"
      }
    },
    {
      "cell_type": "code",
      "source": [
        "liga_justicia={\"superhéroe\":[\"Batman\",\"Superman\",\"WonderWoman\"], \"identidades\":[\"Bruce Wayne\",\"Clark Kent\",\"Diana Price\"]}\n",
        "liga_justicia"
      ],
      "metadata": {
        "colab": {
          "base_uri": "https://localhost:8080/"
        },
        "id": "6A_eGZq6pNPE",
        "outputId": "a18f5e45-289e-487d-fc62-db191289da18"
      },
      "execution_count": null,
      "outputs": [
        {
          "output_type": "execute_result",
          "data": {
            "text/plain": [
              "{'superhéroe': ['Batman', 'Superman', 'WonderWoman'],\n",
              " 'identidades': ['Bruce Wayne', 'Clark Kent', 'Diana Price']}"
            ]
          },
          "metadata": {},
          "execution_count": 53
        }
      ]
    },
    {
      "cell_type": "code",
      "source": [
        "liga_justicia.pop(\"superhéroe\")"
      ],
      "metadata": {
        "colab": {
          "base_uri": "https://localhost:8080/"
        },
        "id": "rm4vNNsFpVrr",
        "outputId": "f6742910-4973-46a4-8b37-074ad9387e41"
      },
      "execution_count": null,
      "outputs": [
        {
          "output_type": "execute_result",
          "data": {
            "text/plain": [
              "['Batman', 'Superman', 'WonderWoman']"
            ]
          },
          "metadata": {},
          "execution_count": 55
        }
      ]
    },
    {
      "cell_type": "code",
      "source": [
        "liga_justicia"
      ],
      "metadata": {
        "colab": {
          "base_uri": "https://localhost:8080/"
        },
        "id": "XkyYLgvLpe5j",
        "outputId": "3c70a319-f87a-46cc-9ac1-2aa7cff95b61"
      },
      "execution_count": null,
      "outputs": [
        {
          "output_type": "execute_result",
          "data": {
            "text/plain": [
              "{'identidades': ['Bruce Wayne', 'Clark Kent', 'Diana Price']}"
            ]
          },
          "metadata": {},
          "execution_count": 56
        }
      ]
    },
    {
      "cell_type": "code",
      "source": [
        "liga_justicia={\"superhéroe\":[\"Batman\",\"Superman\",\"WonderWoman\"], \"identidades\":[\"Bruce Wayne\",\"Clark Kent\",\"Diana Price\"]}\n",
        "liga_justicia_eliminada = liga_justicia.pop(superhéroe)\n",
        "print(liga_justicia)\n",
        "print(liga_justicia_eliminada)"
      ],
      "metadata": {
        "colab": {
          "base_uri": "https://localhost:8080/"
        },
        "id": "tvPqeRz6l4S4",
        "outputId": "dceee286-f8e8-4ee5-f744-cca320023ada"
      },
      "execution_count": null,
      "outputs": [
        {
          "output_type": "stream",
          "name": "stdout",
          "text": [
            "{'superhéroe': ['Batman', 'Superman', 'WonderWoman']}\n",
            "['Bruce Wayne', 'Clark Kent', 'Diana Price']\n"
          ]
        }
      ]
    },
    {
      "cell_type": "markdown",
      "source": [
        "* popitem(): método elimina el último elemento insertado en el diccionario.\n",
        "**NOTA:** En versiones anteriores a la 3.7, el popitem()método eliminaba un elemento aleatorio.\n",
        "\n",
        "\n",
        "```\n",
        "diccionario.popitem():\n",
        "```\n",
        "\n"
      ],
      "metadata": {
        "id": "dSfbelUVnFcO"
      }
    },
    {
      "cell_type": "code",
      "source": [
        "liga_justicia={\"superhéroe\":[\"Batman\",\"Superman\",\"WonderWoman\"], \"identidades\":[\"Bruce Wayne\",\"Clark Kent\",\"Diana Price\"]}\n",
        "liga_justicia.popitem()\n",
        "print(liga_justicia)"
      ],
      "metadata": {
        "colab": {
          "base_uri": "https://localhost:8080/"
        },
        "id": "f9YOIC2bnSU_",
        "outputId": "dd1d2735-b5c6-4895-cba7-b54f324a4241"
      },
      "execution_count": null,
      "outputs": [
        {
          "output_type": "stream",
          "name": "stdout",
          "text": [
            "{'superhéroe': ['Batman', 'Superman', 'WonderWoman']}\n"
          ]
        }
      ]
    },
    {
      "cell_type": "markdown",
      "source": [
        "setdefault()\n",
        "\n",
        "\n",
        "Devuelve el valor de una clave si existe; si no, la crea con un valor por defecto y lo devuelve."
      ],
      "metadata": {
        "id": "cgvBesbwtZX-"
      }
    },
    {
      "cell_type": "code",
      "source": [
        "liga_justicia.setdefault(\"superheroes\")"
      ],
      "metadata": {
        "id": "W8dp5erAtdBh"
      },
      "execution_count": null,
      "outputs": []
    },
    {
      "cell_type": "markdown",
      "source": [
        "update()\n",
        "\n",
        "\n",
        "Actualiza el diccionario con pares clave-valor de otro diccionario o iterable."
      ],
      "metadata": {
        "id": "0gS-3nXctesn"
      }
    },
    {
      "cell_type": "code",
      "source": [
        "liga_justicia"
      ],
      "metadata": {
        "colab": {
          "base_uri": "https://localhost:8080/"
        },
        "id": "pOtsdXahti6o",
        "outputId": "41cff048-3acb-4cfc-bfbd-b452bb8b1832"
      },
      "execution_count": null,
      "outputs": [
        {
          "output_type": "execute_result",
          "data": {
            "text/plain": [
              "{'superheroes': None}"
            ]
          },
          "metadata": {},
          "execution_count": 70
        }
      ]
    },
    {
      "cell_type": "code",
      "source": [
        "liga_justicia.setdefault(\"Villanos\")\n",
        "print(liga_justicia)"
      ],
      "metadata": {
        "colab": {
          "base_uri": "https://localhost:8080/"
        },
        "id": "hKh6E3_QtlZv",
        "outputId": "564dba3a-49eb-4c2c-82d2-50783fd0e4c4"
      },
      "execution_count": null,
      "outputs": [
        {
          "output_type": "stream",
          "name": "stdout",
          "text": [
            "{'superheroes': None, 'Villanos': None}\n"
          ]
        }
      ]
    },
    {
      "cell_type": "code",
      "source": [
        "liga_justicia.update(Villanos=[\"Guasón\",\"Doble cara\"])"
      ],
      "metadata": {
        "id": "ZS2a0MZdtnGE"
      },
      "execution_count": null,
      "outputs": []
    },
    {
      "cell_type": "code",
      "source": [
        "liga_justicia"
      ],
      "metadata": {
        "colab": {
          "base_uri": "https://localhost:8080/"
        },
        "id": "ERqFeNxOtpX_",
        "outputId": "76cef9c8-d5cf-49cb-d19c-0d28b5d674da"
      },
      "execution_count": null,
      "outputs": [
        {
          "output_type": "execute_result",
          "data": {
            "text/plain": [
              "{'superheroes': None, 'Villanos': ['Guasón', 'Doble cara']}"
            ]
          },
          "metadata": {},
          "execution_count": 73
        }
      ]
    },
    {
      "cell_type": "markdown",
      "source": [
        "values()\n",
        "\n",
        "\n",
        "Devuelve una vista con todos los valores del diccionario."
      ],
      "metadata": {
        "id": "p3suPnCotru_"
      }
    },
    {
      "cell_type": "code",
      "source": [
        "print(list(liga_justicia.values()))"
      ],
      "metadata": {
        "colab": {
          "base_uri": "https://localhost:8080/"
        },
        "id": "sPPPOAs-tsVP",
        "outputId": "bde09dd3-8566-46b3-e1a3-9e437a52d9aa"
      },
      "execution_count": null,
      "outputs": [
        {
          "output_type": "stream",
          "name": "stdout",
          "text": [
            "[None, ['Guasón', 'Doble cara']]\n"
          ]
        }
      ]
    }
  ]
}