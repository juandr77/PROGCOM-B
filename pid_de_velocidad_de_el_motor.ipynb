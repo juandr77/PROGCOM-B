{
  "nbformat": 4,
  "nbformat_minor": 0,
  "metadata": {
    "colab": {
      "provenance": [],
      "authorship_tag": "ABX9TyMYEQKuLw+PIMrSIKCfPXHc",
      "include_colab_link": true
    },
    "kernelspec": {
      "name": "python3",
      "display_name": "Python 3"
    },
    "language_info": {
      "name": "python"
    }
  },
  "cells": [
    {
      "cell_type": "markdown",
      "metadata": {
        "id": "view-in-github",
        "colab_type": "text"
      },
      "source": [
        "<a href=\"https://colab.research.google.com/github/juandr77/PROGCOM-B/blob/main/pid_de_velocidad_de_el_motor.ipynb\" target=\"_parent\"><img src=\"https://colab.research.google.com/assets/colab-badge.svg\" alt=\"Open In Colab\"/></a>"
      ]
    },
    {
      "cell_type": "code",
      "execution_count": null,
      "metadata": {
        "id": "gfaxzdafrLEJ"
      },
      "outputs": [],
      "source": [
        "import matplotlib.pyplot as plt\n",
        "import numpy as np\n",
        "K = 1.0\n",
        "T = 0.5\n",
        "dt = 0.01\n",
        "time = np.arange(0, 5, dt)\n",
        "Kp = 2.0\n",
        "Ki = 1.0\n",
        "Kd = 0.1\n",
        "setpoint = 1.0\n",
        "velocity = 0.0\n",
        "error_sum = 0.0\n",
        "last_error = 0.0\n",
        "velocities = []\n",
        "errors = []\n",
        "for t in time:\n",
        "    error = setpoint - velocity\n",
        "    error_sum += error * dt\n",
        "    d_error = (error - last_error) / dt\n",
        "\n",
        "    u = Kp * error + Ki * error_sum + Kd * d_error\n",
        "    velocity += dt * (-(1/T) * velocity + (K/T) * u)\n",
        "    velocities.append(velocity)\n",
        "    errors.append(error)\n",
        "    last_error = error\n",
        "plt.figure()\n",
        "plt.plot(time, velocities, label=\"Velocidad del motor\")\n",
        "plt.plot(time, [setpoint]*len(time), 'r--', label=\"Setpoint\")\n",
        "plt.xlabel(\"Tiempo (s)\")\n",
        "plt.ylabel(\"Velocidad\")\n",
        "plt.legend()\n",
        "plt.title(\"Control PID de velocidad del motor DC\")\n",
        "plt.grid(True)\n",
        "plt.show()\n",
        "\n",
        "\n",
        "\n",
        "\n",
        "\n",
        "\n",
        "\n",
        "\n",
        "\n",
        "\n",
        "\n",
        "\n",
        "\n",
        "\n",
        "\n",
        "\n",
        "\n",
        "\n",
        "\n",
        "\n",
        "\n",
        "\n",
        "\n",
        "\n",
        "\n",
        "\n",
        "\n",
        "\n",
        "\n",
        "\n",
        "\n",
        "\n",
        "\n",
        "\n",
        "\n",
        "\n",
        "\n",
        "\n",
        "\n"
      ]
    }
  ]
}