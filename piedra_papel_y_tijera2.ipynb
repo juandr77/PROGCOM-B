{
  "nbformat": 4,
  "nbformat_minor": 0,
  "metadata": {
    "colab": {
      "provenance": [],
      "authorship_tag": "ABX9TyO5IXlkhxkekWgCzEKXo4pq",
      "include_colab_link": true
    },
    "kernelspec": {
      "name": "python3",
      "display_name": "Python 3"
    },
    "language_info": {
      "name": "python"
    }
  },
  "cells": [
    {
      "cell_type": "markdown",
      "metadata": {
        "id": "view-in-github",
        "colab_type": "text"
      },
      "source": [
        "<a href=\"https://colab.research.google.com/github/juandr77/PROGCOM-B/blob/main/piedra_papel_y_tijera2.ipynb\" target=\"_parent\"><img src=\"https://colab.research.google.com/assets/colab-badge.svg\" alt=\"Open In Colab\"/></a>"
      ]
    },
    {
      "cell_type": "code",
      "source": [
        "import random\n",
        "\n",
        "def jugar_ronda():\n",
        "    opciones = [\"piedra\", \"papel\", \"tijera\"]\n",
        "\n",
        "    while True:\n",
        "        jugador = input(\"Elige piedra, papel o tijera (o 'salir' para terminar): \").lower()\n",
        "        if jugador == 'salir':\n",
        "            return None, None, None\n",
        "        if jugador not in opciones:\n",
        "            print(\"Opción no válida. Intenta de nuevo.\")\n",
        "            continue\n",
        "        break\n",
        "\n",
        "    bot = random.choice(opciones)\n",
        "\n",
        "    print(f\"Tú elegiste: {jugador}\")\n",
        "    print(f\"El bot eligió: {bot}\")\n",
        "\n",
        "    if jugador == bot:\n",
        "        resultado = \"Empate\"\n",
        "    elif (jugador == \"piedra\" and bot == \"tijera\") or \\\n",
        "         (jugador == \"papel\" and bot == \"piedra\") or \\\n",
        "         (jugador == \"tijera\" and bot == \"papel\"):\n",
        "        resultado = \"Ganaste\"\n",
        "    else:\n",
        "        resultado = \"Perdiste\"\n",
        "\n",
        "    print(\"Resultado:\", resultado)\n",
        "    return resultado, jugador, bot\n",
        "\n",
        "def juego():\n",
        "    print(\"🪨 📄 ✂️  Bienvenido al juego de Piedra, Papel o Tijera (consola)\")\n",
        "    print(\"Escribe 'salir' en cualquier momento para terminar.\\n\")\n",
        "\n",
        "    ganados = 0\n",
        "    perdidos = 0\n",
        "    empates = 0\n",
        "\n",
        "    while True:\n",
        "        resultado, jugador, bot = jugar_ronda()\n",
        "        if resultado is None:\n",
        "            break\n",
        "        if resultado == \"Ganaste\":\n",
        "            ganados += 1\n",
        "        elif resultado == \"Perdiste\":\n",
        "            perdidos += 1\n",
        "        else:\n",
        "            empates += 1\n",
        "\n",
        "        print(f\"Marcador: Victorias: {ganados} | Derrotas: {perdidos} | Empates: {empates}\\n\")\n",
        "\n",
        "    print(\"\\nJuego terminado.\")\n",
        "    print(f\"Resultados finales → Victorias: {ganados}, Derrotas: {perdidos}, Empates: {empates}\")\n",
        "\n",
        "if __name__ == \"__main__\":\n",
        "    juego()\n"
      ],
      "metadata": {
        "colab": {
          "base_uri": "https://localhost:8080/"
        },
        "id": "8EYmdDjXnBGy",
        "outputId": "298dcd66-d12c-4f83-f036-3d2cfe52d02e"
      },
      "execution_count": null,
      "outputs": [
        {
          "output_type": "stream",
          "name": "stdout",
          "text": [
            "🪨 📄 ✂️  Bienvenido al juego de Piedra, Papel o Tijera (consola)\n",
            "Escribe 'salir' en cualquier momento para terminar.\n",
            "\n"
          ]
        }
      ]
    }
  ]
}