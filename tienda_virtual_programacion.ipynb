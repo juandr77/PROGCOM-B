{
  "nbformat": 4,
  "nbformat_minor": 0,
  "metadata": {
    "colab": {
      "provenance": [],
      "authorship_tag": "ABX9TyNGZwcevq4VKRCH7f5Dn+gy",
      "include_colab_link": true
    },
    "kernelspec": {
      "name": "python3",
      "display_name": "Python 3"
    },
    "language_info": {
      "name": "python"
    }
  },
  "cells": [
    {
      "cell_type": "markdown",
      "metadata": {
        "id": "view-in-github",
        "colab_type": "text"
      },
      "source": [
        "<a href=\"https://colab.research.google.com/github/juandr77/PROGCOM-B/blob/main/tienda_virtual_programacion.ipynb\" target=\"_parent\"><img src=\"https://colab.research.google.com/assets/colab-badge.svg\" alt=\"Open In Colab\"/></a>"
      ]
    },
    {
      "cell_type": "code",
      "execution_count": 2,
      "metadata": {
        "id": "LQSU0G_cTzP2"
      },
      "outputs": [],
      "source": [
        "class Producto:\n",
        "    def __init__(self, nombre, precio, stock):\n",
        "        self.nombre = nombre\n",
        "        self.precio = precio\n",
        "        self.stock = stock\n",
        "    def __str__(self):\n",
        "        return f\"{self.nombre} - ${self.precio:.2f} ({self.stock} disponibles)\"\n",
        "class Carrito:\n",
        "    def __init__(self):\n",
        "        self.items = []\n",
        "    def agregar(self, producto, cantidad):\n",
        "        if cantidad > producto.stock:\n",
        "            print(f\"⚠️ Solo hay {producto.stock} unidades disponibles de {producto.nombre}.\")\n",
        "            return\n",
        "        producto.stock -= cantidad\n",
        "        self.items.append((producto, cantidad))\n",
        "        print(f\"✅ {cantidad} {producto.nombre}(s) añadidos al carrito.\")\n",
        "    def mostrar(self):\n",
        "        if not self.items:\n",
        "            print(\"🛒 Tu carrito está vacío.\")\n",
        "            return\n",
        "        print(\"\\n--- 🧺 Carrito de compras ---\")\n",
        "        total = 0\n",
        "        for producto, cantidad in self.items:\n",
        "            subtotal = producto.precio * cantidad\n",
        "            total += subtotal\n",
        "            print(f\"{producto.nombre} x{cantidad} = ${subtotal:.2f}\")\n",
        "        print(f\"💰 Total: ${total:.2f}\")\n",
        "\n",
        "    def comprar(self):\n",
        "        if not self.items:\n",
        "            print(\"❌ El carrito está vacío, no puedes comprar.\")\n",
        "            return\n",
        "        self.mostrar()\n",
        "        print(\"🎉 ¡Compra realizada con éxito!\")\n",
        "        self.items.clear()"
      ]
    },
    {
      "cell_type": "code",
      "source": [
        "class Tienda:\n",
        "    def __init__(self, nombre):\n",
        "        self.nombre = nombre\n",
        "        self.productos = []\n",
        "        self.carrito = Carrito()\n",
        "    def agregar_producto(self, producto):\n",
        "        self.productos.append(producto)\n",
        "    def mostrar_productos(self):\n",
        "        print(f\"\\n===== 🏪 {self.nombre.upper()} =====\")\n",
        "        for i, p in enumerate(self.productos, 1):\n",
        "            print(f\"{i}. {p}\")\n",
        "    def seleccionar_producto(self, indice):\n",
        "        if 1 <= indice <= len(self.productos):\n",
        "            return self.productos[indice - 1]\n",
        "        else:\n",
        "            print(\"❌ Producto inválido.\")\n",
        "            return None\n",
        "    def menu(self):\n",
        "        while True:\n",
        "            print(\"\\n===== 🌷 MENÚ PRINCIPAL 🌷 =====\")\n",
        "            print(\"1. Ver productos\")\n",
        "            print(\"2. Agregar al carrito\")\n",
        "            print(\"3. Ver carrito\")\n",
        "            print(\"4. Comprar\")\n",
        "            print(\"5. Salir\")\n",
        "            opcion = input(\"Elige una opción: \")\n",
        "            if opcion == \"1\":\n",
        "                self.mostrar_productos()\n",
        "            elif opcion == \"2\":\n",
        "                self.mostrar_productos()\n",
        "                try:\n",
        "                    indice = int(input(\"Elige el número del producto: \"))\n",
        "                    producto = self.seleccionar_producto(indice)\n",
        "                    if producto:\n",
        "                        cantidad = int(input(\"Cantidad: \"))\n",
        "                        self.carrito.agregar(producto, cantidad)\n",
        "                except ValueError:\n",
        "                    print(\"❌ Ingresa un número válido.\")\n",
        "            elif opcion == \"3\":\n",
        "                self.carrito.mostrar()\n",
        "\n",
        "            elif opcion == \"4\":\n",
        "                self.carrito.comprar()\n",
        "\n",
        "            elif opcion == \"5\":\n",
        "                print(\"👋 ¡Gracias por visitar la tienda!\")\n",
        "                break\n",
        "\n",
        "            else:\n",
        "                print(\"❌ Opción inválida.\")\n"
      ],
      "metadata": {
        "id": "9IupXI6_WLJ1"
      },
      "execution_count": 3,
      "outputs": []
    },
    {
      "cell_type": "code",
      "source": [
        "tienda = Tienda(\"Tienda de Flores\")\n",
        "tienda.agregar_producto(Producto(\"Rosa\", 2.5, 10))\n",
        "tienda.agregar_producto(Producto(\"Girasol\", 3.0, 8))\n",
        "tienda.agregar_producto(Producto(\"Tulipán\", 4.0, 5))\n",
        "tienda.agregar_producto(Producto(\"Margarita\", 1.8, 12))\n",
        "tienda.menu()\n"
      ],
      "metadata": {
        "colab": {
          "base_uri": "https://localhost:8080/"
        },
        "id": "QPJ0RGD3WL3N",
        "outputId": "10c34b29-24d1-49c2-9866-fe68df3444b4"
      },
      "execution_count": null,
      "outputs": [
        {
          "output_type": "stream",
          "name": "stdout",
          "text": [
            "\n",
            "===== 🌷 MENÚ PRINCIPAL 🌷 =====\n",
            "1. Ver productos\n",
            "2. Agregar al carrito\n",
            "3. Ver carrito\n",
            "4. Comprar\n",
            "5. Salir\n"
          ]
        }
      ]
    }
  ]
}