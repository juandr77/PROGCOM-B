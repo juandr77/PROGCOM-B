{
  "nbformat": 4,
  "nbformat_minor": 0,
  "metadata": {
    "colab": {
      "provenance": [],
      "include_colab_link": true
    },
    "kernelspec": {
      "name": "python3",
      "display_name": "Python 3"
    },
    "language_info": {
      "name": "python"
    }
  },
  "cells": [
    {
      "cell_type": "markdown",
      "metadata": {
        "id": "view-in-github",
        "colab_type": "text"
      },
      "source": [
        "<a href=\"https://colab.research.google.com/github/juandr77/PROGCOM-B/blob/main/Copia_de_Copia_de_clase_6_diccionarios.ipynb\" target=\"_parent\"><img src=\"https://colab.research.google.com/assets/colab-badge.svg\" alt=\"Open In Colab\"/></a>"
      ]
    },
    {
      "cell_type": "markdown",
      "source": [
        "##Diccionarios\n",
        "Estructura de datos que almacena valores\n",
        "\n",
        "Sintaxis\n",
        "\n",
        "```\n",
        "nombre_diccionario={\"llave\":valor}\n",
        "```\n",
        "* llave: **Siempre** tiene que ser alfanumérica\n",
        "* valor: Cualquier tipo de dato\n"
      ],
      "metadata": {
        "id": "AUOJ3yFCbL7J"
      }
    },
    {
      "cell_type": "code",
      "source": [
        "liga_justicia={\"superhéroe\":[\"Batman\",\"Superman\",\"WonderWoman\"], \"identidades\":[\"Bruce Wayne\",\"Clark Kent\",\"Diana Price\"]}"
      ],
      "metadata": {
        "id": "v3JZ14_scV34"
      },
      "execution_count": null,
      "outputs": []
    },
    {
      "cell_type": "code",
      "source": [
        "type(liga_justicia)"
      ],
      "metadata": {
        "colab": {
          "base_uri": "https://localhost:8080/"
        },
        "id": "-f733p6bc4La",
        "outputId": "1d0c0111-7d90-41fa-d50e-db4569e3870d"
      },
      "execution_count": null,
      "outputs": [
        {
          "output_type": "execute_result",
          "data": {
            "text/plain": [
              "dict"
            ]
          },
          "metadata": {},
          "execution_count": 31
        }
      ]
    },
    {
      "cell_type": "code",
      "source": [
        "liga_justicia"
      ],
      "metadata": {
        "colab": {
          "base_uri": "https://localhost:8080/"
        },
        "id": "58Cp3RnYdKy_",
        "outputId": "a36bbb01-af6f-4a65-fe9a-12511c540111"
      },
      "execution_count": null,
      "outputs": [
        {
          "output_type": "execute_result",
          "data": {
            "text/plain": [
              "{'superhéroe': ['Batman', 'Superman', 'WonderWoman'],\n",
              " 'identidades': ['Bruce Wayne', 'Clark Kent', 'Diana Price']}"
            ]
          },
          "metadata": {},
          "execution_count": 32
        }
      ]
    },
    {
      "cell_type": "markdown",
      "source": [
        "Los diccionarios **NO** Tienen indexación"
      ],
      "metadata": {
        "id": "gVvffWGoeJj2"
      }
    },
    {
      "cell_type": "code",
      "source": [
        "liga_justicia[\"identidades\"][2]"
      ],
      "metadata": {
        "colab": {
          "base_uri": "https://localhost:8080/",
          "height": 35
        },
        "id": "THAZhHL-drke",
        "outputId": "7d92d6d0-f90b-4e52-c026-f8db37619fc8"
      },
      "execution_count": null,
      "outputs": [
        {
          "output_type": "execute_result",
          "data": {
            "text/plain": [
              "'Diana Price'"
            ],
            "application/vnd.google.colaboratory.intrinsic+json": {
              "type": "string"
            }
          },
          "metadata": {},
          "execution_count": 33
        }
      ]
    },
    {
      "cell_type": "markdown",
      "source": [
        "* Funcion clear:\n",
        "El clear método elimina todos los elementos de una lista.\n",
        "\n",
        "Sintaxis:\n",
        "```\n",
        "diccionario.clear()\n",
        "```"
      ],
      "metadata": {
        "id": "8MJY17ksrUc5"
      }
    },
    {
      "cell_type": "code",
      "source": [
        "liga_justicia.clear()\n",
        "liga_justicia"
      ],
      "metadata": {
        "colab": {
          "base_uri": "https://localhost:8080/"
        },
        "id": "UTcEyuepranc",
        "outputId": "9d741cc5-fdaa-4f3c-f581-e90b9b66d563"
      },
      "execution_count": null,
      "outputs": [
        {
          "output_type": "execute_result",
          "data": {
            "text/plain": [
              "{}"
            ]
          },
          "metadata": {},
          "execution_count": 62
        }
      ]
    },
    {
      "cell_type": "markdown",
      "source": [
        "* Función copy: El copy método devuelve una copia de la lista especificada.\n",
        "Sintáxis:\n",
        "\n",
        "\n",
        "```\n",
        "diccionario.copy()\n",
        "```\n",
        "\n"
      ],
      "metadata": {
        "id": "XMxplSGorc7Z"
      }
    },
    {
      "cell_type": "code",
      "source": [
        "justicia_joven={}\n",
        "justicia_joven=liga_justicia.copy()\n",
        "justicia_joven"
      ],
      "metadata": {
        "colab": {
          "base_uri": "https://localhost:8080/"
        },
        "id": "7WOe-HtnrfAh",
        "outputId": "f8ddccf1-562f-4fe0-899d-1e8fa83f9187"
      },
      "execution_count": null,
      "outputs": [
        {
          "output_type": "execute_result",
          "data": {
            "text/plain": [
              "{}"
            ]
          },
          "metadata": {},
          "execution_count": 63
        }
      ]
    },
    {
      "cell_type": "markdown",
      "source": [
        "* Función fromkeys: El fromkeys método devuelve un diccionario con las claves especificadas y el valor especificado.\n",
        "sintáxis:\n",
        "\n",
        "\n",
        "```\n",
        "dict.fromkeys(keys, value)\n",
        "```\n"
      ],
      "metadata": {
        "id": "0AOTvWTLrkbp"
      }
    },
    {
      "cell_type": "code",
      "source": [
        "liga_justicia.fromkeys([\"superheroes\",\"identidades\"],\"DC\")"
      ],
      "metadata": {
        "colab": {
          "base_uri": "https://localhost:8080/"
        },
        "id": "GVuAHGmbrlKd",
        "outputId": "9c565724-36cf-4fd0-8fad-b27ee004b9aa"
      },
      "execution_count": null,
      "outputs": [
        {
          "output_type": "execute_result",
          "data": {
            "text/plain": [
              "{'superheroes': 'DC', 'identidades': 'DC'}"
            ]
          },
          "metadata": {},
          "execution_count": 64
        }
      ]
    },
    {
      "cell_type": "code",
      "source": [
        "liga_justicia"
      ],
      "metadata": {
        "colab": {
          "base_uri": "https://localhost:8080/"
        },
        "id": "JUp1y-vzronJ",
        "outputId": "79ace604-aeca-42e4-8f5c-dd064bcaba59"
      },
      "execution_count": null,
      "outputs": [
        {
          "output_type": "execute_result",
          "data": {
            "text/plain": [
              "{}"
            ]
          },
          "metadata": {},
          "execution_count": 65
        }
      ]
    },
    {
      "cell_type": "code",
      "source": [
        "DC=[\"Batman\",\"Superman\",\"WonderWoman\"]\n",
        "liga=dict.fromkeys(DC)"
      ],
      "metadata": {
        "id": "5n8hf4KfrqxZ"
      },
      "execution_count": null,
      "outputs": []
    },
    {
      "cell_type": "code",
      "source": [
        "liga"
      ],
      "metadata": {
        "colab": {
          "base_uri": "https://localhost:8080/"
        },
        "id": "KrgVDl7ertfZ",
        "outputId": "435c1864-fdb0-41f4-fee2-eaaf487b42f9"
      },
      "execution_count": null,
      "outputs": [
        {
          "output_type": "execute_result",
          "data": {
            "text/plain": [
              "{'Batman': None, 'Superman': None, 'WonderWoman': None}"
            ]
          },
          "metadata": {},
          "execution_count": 67
        }
      ]
    },
    {
      "cell_type": "markdown",
      "source": [
        "* Función get: El get método devuelve el valor del elemento con la clave especificada.\n",
        "Funcion:\n",
        "\n",
        "\n",
        "```\n",
        "dictionario.get(keyname, value)\n",
        "```\n",
        "\n"
      ],
      "metadata": {
        "id": "hrgKxB47ry1i"
      }
    },
    {
      "cell_type": "code",
      "source": [
        "liga_justicia.get(\"identidades\")"
      ],
      "metadata": {
        "id": "rKV1nB2bsxVg"
      },
      "execution_count": null,
      "outputs": []
    },
    {
      "cell_type": "markdown",
      "source": [
        "\n",
        "* items(): Es un método de los diccionarios que devuelve un objeto vista que contiene todos los pares clave-valor del diccionario en forma de tuplas. (tuplas=colección de elementos ordenada)\n",
        "\n",
        "```\n",
        "diccionario.items():\n",
        "```\n",
        "\n",
        "\n",
        "\n"
      ],
      "metadata": {
        "id": "g7qmqXGEgP_n"
      }
    },
    {
      "cell_type": "code",
      "source": [
        "liga_justicia={\"superhéroe\":[\"Batman\",\"Superman\",\"WonderWoman\"], \"identidades\":[\"Bruce Wayne\",\"Clark Kent\",\"Diana Price\"]}\n",
        "for superhéroe, identidades in liga_justicia.items():\n",
        "    print(f\"La clave es: {superhéroe}, y el valor es: {identidades}\")"
      ],
      "metadata": {
        "colab": {
          "base_uri": "https://localhost:8080/"
        },
        "id": "k6JmUB4kh0Mi",
        "outputId": "e3949cca-7013-4861-9698-31f510729a63"
      },
      "execution_count": null,
      "outputs": [
        {
          "output_type": "stream",
          "name": "stdout",
          "text": [
            "La clave es: superhéroe, y el valor es: ['Batman', 'Superman', 'WonderWoman']\n",
            "La clave es: identidades, y el valor es: ['Bruce Wayne', 'Clark Kent', 'Diana Price']\n"
          ]
        }
      ]
    },
    {
      "cell_type": "markdown",
      "source": [
        "* keys(): es un método de los diccionarios que devuelve un objeto de vista que contiene todas las claves del diccionario.\n",
        "\n",
        "\n",
        "```\n",
        "diccionario.keys():\n",
        "```\n",
        "\n"
      ],
      "metadata": {
        "id": "1G4BR5Tzi3sa"
      }
    },
    {
      "cell_type": "code",
      "source": [
        "liga_justicia={\"superhéroe\":[\"Batman\",\"Superman\",\"WonderWoman\"], \"identidades\":[\"Bruce Wayne\",\"Clark Kent\",\"Diana Price\"]}\n",
        "claves= liga_justicia.keys()\n",
        "print(claves)"
      ],
      "metadata": {
        "colab": {
          "base_uri": "https://localhost:8080/"
        },
        "id": "yPyFNjLii23T",
        "outputId": "ad5e8034-171f-4023-b0a4-6c42e701f95d"
      },
      "execution_count": null,
      "outputs": [
        {
          "output_type": "stream",
          "name": "stdout",
          "text": [
            "dict_keys(['superhéroe', 'identidades'])\n"
          ]
        }
      ]
    },
    {
      "cell_type": "markdown",
      "source": [
        "* pop(): es un método que se usa en listas y diccionarios para eliminar y devolver un elemento, ya sea por su índice (en listas) o por su clave (en diccionarios).\n",
        "\n",
        "```\n",
        "diccionario.pop():\n",
        "```\n",
        "\n"
      ],
      "metadata": {
        "id": "gA6mNOsHjoMi"
      }
    },
    {
      "cell_type": "code",
      "source": [
        "liga_justicia={\"superhéroe\":[\"Batman\",\"Superman\",\"WonderWoman\"], \"identidades\":[\"Bruce Wayne\",\"Clark Kent\",\"Diana Price\"]}\n",
        "liga_justicia"
      ],
      "metadata": {
        "colab": {
          "base_uri": "https://localhost:8080/"
        },
        "id": "6A_eGZq6pNPE",
        "outputId": "a18f5e45-289e-487d-fc62-db191289da18"
      },
      "execution_count": null,
      "outputs": [
        {
          "output_type": "execute_result",
          "data": {
            "text/plain": [
              "{'superhéroe': ['Batman', 'Superman', 'WonderWoman'],\n",
              " 'identidades': ['Bruce Wayne', 'Clark Kent', 'Diana Price']}"
            ]
          },
          "metadata": {},
          "execution_count": 53
        }
      ]
    },
    {
      "cell_type": "code",
      "source": [
        "liga_justicia.pop(\"superhéroe\")"
      ],
      "metadata": {
        "colab": {
          "base_uri": "https://localhost:8080/"
        },
        "id": "rm4vNNsFpVrr",
        "outputId": "f6742910-4973-46a4-8b37-074ad9387e41"
      },
      "execution_count": null,
      "outputs": [
        {
          "output_type": "execute_result",
          "data": {
            "text/plain": [
              "['Batman', 'Superman', 'WonderWoman']"
            ]
          },
          "metadata": {},
          "execution_count": 55
        }
      ]
    },
    {
      "cell_type": "code",
      "source": [
        "liga_justicia"
      ],
      "metadata": {
        "colab": {
          "base_uri": "https://localhost:8080/"
        },
        "id": "XkyYLgvLpe5j",
        "outputId": "3c70a319-f87a-46cc-9ac1-2aa7cff95b61"
      },
      "execution_count": null,
      "outputs": [
        {
          "output_type": "execute_result",
          "data": {
            "text/plain": [
              "{'identidades': ['Bruce Wayne', 'Clark Kent', 'Diana Price']}"
            ]
          },
          "metadata": {},
          "execution_count": 56
        }
      ]
    },
    {
      "cell_type": "code",
      "source": [
        "liga_justicia={\"superhéroe\":[\"Batman\",\"Superman\",\"WonderWoman\"], \"identidades\":[\"Bruce Wayne\",\"Clark Kent\",\"Diana Price\"]}\n",
        "liga_justicia_eliminada = liga_justicia.pop(superhéroe)\n",
        "print(liga_justicia)\n",
        "print(liga_justicia_eliminada)"
      ],
      "metadata": {
        "colab": {
          "base_uri": "https://localhost:8080/"
        },
        "id": "tvPqeRz6l4S4",
        "outputId": "dceee286-f8e8-4ee5-f744-cca320023ada"
      },
      "execution_count": null,
      "outputs": [
        {
          "output_type": "stream",
          "name": "stdout",
          "text": [
            "{'superhéroe': ['Batman', 'Superman', 'WonderWoman']}\n",
            "['Bruce Wayne', 'Clark Kent', 'Diana Price']\n"
          ]
        }
      ]
    },
    {
      "cell_type": "markdown",
      "source": [
        "* popitem(): método elimina el último elemento insertado en el diccionario.\n",
        "**NOTA:** En versiones anteriores a la 3.7, el popitem()método eliminaba un elemento aleatorio.\n",
        "\n",
        "\n",
        "```\n",
        "diccionario.popitem():\n",
        "```\n",
        "\n"
      ],
      "metadata": {
        "id": "dSfbelUVnFcO"
      }
    },
    {
      "cell_type": "code",
      "source": [
        "liga_justicia={\"superhéroe\":[\"Batman\",\"Superman\",\"WonderWoman\"], \"identidades\":[\"Bruce Wayne\",\"Clark Kent\",\"Diana Price\"]}\n",
        "liga_justicia.popitem()\n",
        "print(liga_justicia)"
      ],
      "metadata": {
        "colab": {
          "base_uri": "https://localhost:8080/"
        },
        "id": "f9YOIC2bnSU_",
        "outputId": "dd1d2735-b5c6-4895-cba7-b54f324a4241"
      },
      "execution_count": null,
      "outputs": [
        {
          "output_type": "stream",
          "name": "stdout",
          "text": [
            "{'superhéroe': ['Batman', 'Superman', 'WonderWoman']}\n"
          ]
        }
      ]
    },
    {
      "cell_type": "markdown",
      "source": [
        "setdefault()\n",
        "\n",
        "\n",
        "Devuelve el valor de una clave si existe; si no, la crea con un valor por defecto y lo devuelve."
      ],
      "metadata": {
        "id": "cgvBesbwtZX-"
      }
    },
    {
      "cell_type": "code",
      "source": [
        "liga_justicia.setdefault(\"superheroes\")"
      ],
      "metadata": {
        "id": "W8dp5erAtdBh"
      },
      "execution_count": null,
      "outputs": []
    },
    {
      "cell_type": "markdown",
      "source": [
        "update()\n",
        "\n",
        "\n",
        "Actualiza el diccionario con pares clave-valor de otro diccionario o iterable."
      ],
      "metadata": {
        "id": "0gS-3nXctesn"
      }
    },
    {
      "cell_type": "code",
      "source": [
        "liga_justicia"
      ],
      "metadata": {
        "colab": {
          "base_uri": "https://localhost:8080/"
        },
        "id": "pOtsdXahti6o",
        "outputId": "41cff048-3acb-4cfc-bfbd-b452bb8b1832"
      },
      "execution_count": null,
      "outputs": [
        {
          "output_type": "execute_result",
          "data": {
            "text/plain": [
              "{'superheroes': None}"
            ]
          },
          "metadata": {},
          "execution_count": 70
        }
      ]
    },
    {
      "cell_type": "code",
      "source": [
        "liga_justicia.setdefault(\"Villanos\")\n",
        "print(liga_justicia)"
      ],
      "metadata": {
        "colab": {
          "base_uri": "https://localhost:8080/"
        },
        "id": "hKh6E3_QtlZv",
        "outputId": "564dba3a-49eb-4c2c-82d2-50783fd0e4c4"
      },
      "execution_count": null,
      "outputs": [
        {
          "output_type": "stream",
          "name": "stdout",
          "text": [
            "{'superheroes': None, 'Villanos': None}\n"
          ]
        }
      ]
    },
    {
      "cell_type": "code",
      "source": [
        "liga_justicia.update(Villanos=[\"Guasón\",\"Doble cara\"])"
      ],
      "metadata": {
        "id": "ZS2a0MZdtnGE"
      },
      "execution_count": null,
      "outputs": []
    },
    {
      "cell_type": "code",
      "source": [
        "liga_justicia"
      ],
      "metadata": {
        "colab": {
          "base_uri": "https://localhost:8080/"
        },
        "id": "ERqFeNxOtpX_",
        "outputId": "76cef9c8-d5cf-49cb-d19c-0d28b5d674da"
      },
      "execution_count": null,
      "outputs": [
        {
          "output_type": "execute_result",
          "data": {
            "text/plain": [
              "{'superheroes': None, 'Villanos': ['Guasón', 'Doble cara']}"
            ]
          },
          "metadata": {},
          "execution_count": 73
        }
      ]
    },
    {
      "cell_type": "markdown",
      "source": [
        "values()\n",
        "\n",
        "\n",
        "Devuelve una vista con todos los valores del diccionario."
      ],
      "metadata": {
        "id": "p3suPnCotru_"
      }
    },
    {
      "cell_type": "code",
      "source": [
        "print(list(liga_justicia.values()))"
      ],
      "metadata": {
        "colab": {
          "base_uri": "https://localhost:8080/"
        },
        "id": "sPPPOAs-tsVP",
        "outputId": "bde09dd3-8566-46b3-e1a3-9e437a52d9aa"
      },
      "execution_count": null,
      "outputs": [
        {
          "output_type": "stream",
          "name": "stdout",
          "text": [
            "[None, ['Guasón', 'Doble cara']]\n"
          ]
        }
      ]
    },
    {
      "cell_type": "markdown",
      "source": [
        "##DICCIONARIOS"
      ],
      "metadata": {
        "id": "6GSaCifd87Oa"
      }
    },
    {
      "cell_type": "markdown",
      "source": [
        "##10. Crea una función que reciba una lista de nombres y retorne cuántos nombres comienzan con vocal."
      ],
      "metadata": {
        "id": "9AOaAfP_88Uj"
      }
    },
    {
      "cell_type": "code",
      "source": [
        "def contarnombres(nombres):\n",
        "    vocales = (\"a\", \"e\", \"i\", \"o\", \"u\")\n",
        "    conteo = {v: 0 for v in vocales}\n",
        "    for nombre in nombres:\n",
        "        if nombre:\n",
        "            inicial = nombre.strip()[0].lower()\n",
        "            if inicial in conteo:\n",
        "                conteo[inicial] += 1\n",
        "    return sum(conteo.values())\n",
        "listanombres = [\"Ana\", \"Eduardo\", \"Ignacio\", \"Oscar\", \"Ulises\", \"Carlos\", \"Beatriz\"]\n",
        "resultado = contarnombres(listanombres)\n",
        "print(f\"Nombres que comienzan con vocal: {resultado}\")\n"
      ],
      "metadata": {
        "colab": {
          "base_uri": "https://localhost:8080/"
        },
        "id": "n3HtKrO-69UD",
        "outputId": "33a4dbb4-14bb-4372-a432-63bc65a89599"
      },
      "execution_count": null,
      "outputs": [
        {
          "output_type": "stream",
          "name": "stdout",
          "text": [
            "Nombres que comienzan con vocal: 5\n"
          ]
        }
      ]
    },
    {
      "cell_type": "markdown",
      "source": [
        "##11. Crea una función que reciba una lista y retorne otra lista sin elementos repetidos"
      ],
      "metadata": {
        "id": "mW097csWE-Kz"
      }
    },
    {
      "cell_type": "code",
      "source": [
        "def sin_repetidos(lista: list) -> list:\n",
        "    return list(dict.fromkeys(lista))\n",
        "datos = [1, 2, 2, 3, 4, 4, 5, 1]\n",
        "print(sin_repetidos(datos))"
      ],
      "metadata": {
        "colab": {
          "base_uri": "https://localhost:8080/"
        },
        "id": "1A32lKukFBMj",
        "outputId": "f8b02e0c-8cda-4798-bbf0-6fd214222e5b"
      },
      "execution_count": null,
      "outputs": [
        {
          "output_type": "stream",
          "name": "stdout",
          "text": [
            "[1, 2, 3, 4, 5]\n"
          ]
        }
      ]
    },
    {
      "cell_type": "markdown",
      "source": [
        "##12. Crea una función que reciba una lista de números y retorne solo los que son primos."
      ],
      "metadata": {
        "id": "uHe-cbLyKKmg"
      }
    },
    {
      "cell_type": "code",
      "source": [
        "def es_primo(n):\n",
        "    if n <= 1:\n",
        "        return False\n",
        "    for i in range(2, int(n**0.5) + 1):\n",
        "        if n % i == 0:\n",
        "            return False\n",
        "    return True\n",
        "\n",
        "def filtrar_primos(numeros):\n",
        "    primos= []\n",
        "    for num in numeros:\n",
        "        if es_primo(num):\n",
        "            primos.append(num)\n",
        "    return primos\n",
        "\n",
        "prim= {\"numeros\": list(range(1, 20))}\n",
        "\n",
        "print(filtrar_primos(prim[\"numeros\"]))"
      ],
      "metadata": {
        "id": "1e_Lx9EsKQaE",
        "outputId": "5b4d1021-256b-4036-e1bf-b66b51bd0ace",
        "colab": {
          "base_uri": "https://localhost:8080/"
        }
      },
      "execution_count": null,
      "outputs": [
        {
          "output_type": "stream",
          "name": "stdout",
          "text": [
            "[2, 3, 5, 7, 11, 13, 17, 19]\n"
          ]
        }
      ]
    },
    {
      "cell_type": "markdown",
      "source": [
        "##13. Crea una función que reciba un diccionario con claves &#39;nombre&#39; y &#39;edad&#39;, y retorne un mensaje con esos datos."
      ],
      "metadata": {
        "id": "k-K9DfN58_Id"
      }
    },
    {
      "cell_type": "code",
      "source": [
        "def mensajepersona(persona):\n",
        "    return f\"{persona[\"nombre\"]} tiene {persona[\"edad\"]} años.\"\n",
        "persona = {\"nombre\": \"Carlos\", \"edad\": 28}\n",
        "print(mensajepersona(persona))\n"
      ],
      "metadata": {
        "colab": {
          "base_uri": "https://localhost:8080/"
        },
        "id": "YY7uNr309Chh",
        "outputId": "2ce58bdd-8370-46c4-94e2-17beaca15fb5"
      },
      "execution_count": null,
      "outputs": [
        {
          "output_type": "stream",
          "name": "stdout",
          "text": [
            "Carlos tiene 28 años.\n"
          ]
        }
      ]
    },
    {
      "cell_type": "markdown",
      "source": [
        "##14. Crea una función que reciba un diccionario de productos (clave: nombre, valor: precio) y retorne el total."
      ],
      "metadata": {
        "id": "bdH5FRqeFQi7"
      }
    },
    {
      "cell_type": "code",
      "source": [
        "def calcular_total(diccionario_productos):\n",
        "    return sum(diccionario_productos.values())\n",
        "productos = {\"manzana\": 1.5,\"banana\": 2.0,\"naranja\": 1.2,\"pera\": 2.3}\n",
        "total = calcular_total(productos)\n",
        "print(f\"El total es: {total}\")"
      ],
      "metadata": {
        "colab": {
          "base_uri": "https://localhost:8080/"
        },
        "id": "1aQMEpJ_5RwS",
        "outputId": "ee9b0c0d-d52f-41c4-9542-380734ea2234"
      },
      "execution_count": null,
      "outputs": [
        {
          "output_type": "stream",
          "name": "stdout",
          "text": [
            "El total es: 7.0\n"
          ]
        }
      ]
    },
    {
      "cell_type": "markdown",
      "source": [
        "##15. Crea una función que reciba un diccionario de estudiantes (clave: nombre, valor: nota) y retorne el promedio."
      ],
      "metadata": {
        "id": "9GbBdqalKSo3"
      }
    },
    {
      "cell_type": "code",
      "source": [
        "notas_15= {\"Ana\": 8,\n",
        "            \"Luis\": 9,\n",
        "            \"Pedro\": 7}\n",
        "\n",
        "def promedio(dic):\n",
        "    return sum(dic.values()) / len(dic)\n",
        "\n",
        "print(promedio(notas_15))"
      ],
      "metadata": {
        "id": "XQtto9L5KRmo",
        "outputId": "858ad458-ec51-4185-ae83-53f3b2a97155",
        "colab": {
          "base_uri": "https://localhost:8080/"
        }
      },
      "execution_count": null,
      "outputs": [
        {
          "output_type": "stream",
          "name": "stdout",
          "text": [
            "8.0\n"
          ]
        }
      ]
    },
    {
      "cell_type": "markdown",
      "source": [
        "##16. Crea una función que reciba un diccionario y un nombre, y retorne la nota si existe o &#39;no encontrado&#39;."
      ],
      "metadata": {
        "id": "ll4z5zfP9C1J"
      }
    },
    {
      "cell_type": "code",
      "source": [
        "def obtenernota(diccionario, nombre):\n",
        "    return diccionario.get(nombre, \"no encontrado\")\n",
        "notas = {\n",
        "    \"Ana\": 85,\n",
        "    \"Luis\": 90,\n",
        "    \"María\": 78}\n",
        "print(obtenernota(notas, \"Luis\"))\n",
        "print(obtenernota(notas, \"Carlos\"))"
      ],
      "metadata": {
        "colab": {
          "base_uri": "https://localhost:8080/"
        },
        "id": "HuBsE-4U9GIQ",
        "outputId": "9328db7c-da35-4164-bebc-703f8ac5084a"
      },
      "execution_count": null,
      "outputs": [
        {
          "output_type": "stream",
          "name": "stdout",
          "text": [
            "90\n",
            "no encontrado\n"
          ]
        }
      ]
    },
    {
      "cell_type": "markdown",
      "source": [
        "##17. Crea una función que reciba un diccionario y retorne el nombre del estudiante con mayor nota."
      ],
      "metadata": {
        "id": "8i6ddRYjF94r"
      }
    },
    {
      "cell_type": "code",
      "source": [
        "def estudiante_con_mayor_nota(diccionario_estudiantes):\n",
        "    mejor_estudiante = [nombre for nombre, nota in diccionario_estudiantes.items() if nota == max(diccionario_estudiantes.values())]\n",
        "    return mejor_estudiante[0]\n",
        "estudiantes = {\"Juan\": 8.5,\"Ana\": 9.7,\"Luis\": 9.7,\"Carlos\": 8.0}\n",
        "mejor_estudiante = estudiante_con_mayor_nota(estudiantes)\n",
        "print(f\"El estudiante con la mayor nota es: {mejor_estudiante}\")"
      ],
      "metadata": {
        "colab": {
          "base_uri": "https://localhost:8080/"
        },
        "id": "ijCwtez3F9pD",
        "outputId": "b1156138-aa00-46c5-be81-f2dc5fab7195"
      },
      "execution_count": null,
      "outputs": [
        {
          "output_type": "stream",
          "name": "stdout",
          "text": [
            "El estudiante con la mayor nota es: Ana\n"
          ]
        }
      ]
    },
    {
      "cell_type": "markdown",
      "source": [
        "##18. Crea una función que reciba un diccionario de productos y retorne los productos con precios mayores a un valor dado."
      ],
      "metadata": {
        "id": "y2sl9pMyKZuH"
      }
    },
    {
      "cell_type": "code",
      "source": [
        "roductos= {\"pan\": 3000,\n",
        "            \"carne\": 15000,\n",
        "            \"queso\": 9000}\n",
        "\n",
        "def filtrar_caros(dic, valor):\n",
        "    return {k: v for k, v in dic.items() if v > valor}\n",
        "\n",
        "print(filtrar_caros(productos, 10000))"
      ],
      "metadata": {
        "id": "90JTOw4YKZif"
      },
      "execution_count": null,
      "outputs": []
    },
    {
      "cell_type": "markdown",
      "source": [
        "##19. Crea una función que reciba un diccionario de empleados (clave: nombre, valor: lista de horas trabajadas) y retorne el total de horas por empleado."
      ],
      "metadata": {
        "id": "6mqhyXGgIvbp"
      }
    },
    {
      "cell_type": "code",
      "source": [
        "def total_horas(empleados: dict) -> dict:\n",
        "    return {nombre: sum(horas) for nombre, horas in empleados.items()}\n",
        "empleados = {\n",
        "\"Ana\": [8, 7, 9, 6],\"Luis\": [5, 8, 8, 7],\"María\": [9, 9, 8, 10]}\n",
        "print(total_horas(empleados))"
      ],
      "metadata": {
        "id": "J41fQlnFIwaV",
        "outputId": "412628d4-816e-4209-8f89-983d1844146e",
        "colab": {
          "base_uri": "https://localhost:8080/"
        }
      },
      "execution_count": null,
      "outputs": [
        {
          "output_type": "stream",
          "name": "stdout",
          "text": [
            "{'Ana': 30, 'Luis': 28, 'María': 36}\n"
          ]
        }
      ]
    },
    {
      "cell_type": "markdown",
      "source": [
        "##20. Crea una función que reciba un diccionario anidado con datos de estudiantes (nombre  {&#39;nota&#39;: x,&#39;edad&#39;: y}) y retorne el promedio de notas de los mayores de edad."
      ],
      "metadata": {
        "id": "AAtO9dUAGDzK"
      }
    },
    {
      "cell_type": "code",
      "source": [
        "def promedio_mayores(estudiantes: dict):\n",
        "    mayores = {nombre: datos for nombre, datos in estudiantes.items() if datos['edad'] >= 18}\n",
        "    notas = [datos['nota'] for datos in mayores.values()]\n",
        "    return sum(notas) / len(notas) if notas else 0\n",
        "estudiantes = {\"Ana\": {\"nota\": 4.5, \"edad\": 17},\"Luis\": {\"nota\": 3.8, \"edad\": 18},\"María\": {\"nota\": 4.2, \"edad\": 20},\"Pedro\": {\"nota\": 2.9, \"edad\": 16}}\n",
        "print(promedio_mayores(estudiantes))"
      ],
      "metadata": {
        "colab": {
          "base_uri": "https://localhost:8080/"
        },
        "id": "2_sMsMqMIO1J",
        "outputId": "b3b84569-b75a-4f43-9846-dfe5175436dc"
      },
      "execution_count": null,
      "outputs": [
        {
          "output_type": "stream",
          "name": "stdout",
          "text": [
            "4.0\n"
          ]
        }
      ]
    },
    {
      "cell_type": "markdown",
      "source": [
        "##LISTAS"
      ],
      "metadata": {
        "id": "hB8ADQG8-QsY"
      }
    },
    {
      "cell_type": "markdown",
      "source": [
        "##10. Crea una función que reciba una lista de nombres y retorne cuántos nombres comienzan con vocal."
      ],
      "metadata": {
        "id": "YbqLs1B8-WOA"
      }
    },
    {
      "cell_type": "code",
      "source": [
        "def contar_nombres_con_vocal(nombres):\n",
        "    vocales = (\"a\", \"e\", \"i\", \"o\", \"u\")\n",
        "    return len([nombre for nombre in nombres if nombre and nombre[0].lower() in vocales])\n",
        "    lista_nombres = [\"Ana\", \"Eduardo\", \"Ignacio\", \"Oscar\", \"Ulises\", \"Carlos\", \"Beatriz\"]\n",
        "resultado = contar_nombres_con_vocal(lista_nombres)\n",
        "print(f\"Nombres que comienzan con vocal: {resultado}\")\n"
      ],
      "metadata": {
        "colab": {
          "base_uri": "https://localhost:8080/"
        },
        "id": "sJqbBdUA-Y9w",
        "outputId": "bce38508-ee04-4314-fef9-f6e78a209c65"
      },
      "execution_count": null,
      "outputs": [
        {
          "output_type": "stream",
          "name": "stdout",
          "text": [
            "Nombres que comienzan con vocal: 5\n"
          ]
        }
      ]
    },
    {
      "cell_type": "markdown",
      "source": [
        "##11. Crea una función que reciba una lista y retorne otra lista sin elementos repetidos"
      ],
      "metadata": {
        "id": "i5qfd5h9GnHa"
      }
    },
    {
      "cell_type": "code",
      "source": [
        "def eliminar_repetidos(lista):\n",
        "    return [item for index, item in enumerate(lista) if item not in lista[:index]]\n",
        "lista_con_repetidos = [1, 2, 2, 3, 4, 4, 5]\n",
        "resultado = eliminar_repetidos(lista_con_repetidos)\n",
        "print(resultado)"
      ],
      "metadata": {
        "colab": {
          "base_uri": "https://localhost:8080/"
        },
        "id": "y2hpyMFrGrxc",
        "outputId": "1116bdda-3f8c-4511-af83-db9f62cee32c"
      },
      "execution_count": null,
      "outputs": [
        {
          "output_type": "stream",
          "name": "stdout",
          "text": [
            "[1, 2, 3, 4, 5]\n"
          ]
        }
      ]
    },
    {
      "cell_type": "markdown",
      "source": [
        "##12. Crea una función que reciba una lista de números y retorne solo los que son primos."
      ],
      "metadata": {
        "id": "iEwzB92iHE-6"
      }
    },
    {
      "cell_type": "code",
      "source": [
        "def es_primo(n):\n",
        "    return n > 1 and all(n % i != 0 for i in range(2, int(n**0.5)+1))\n",
        "def filtrar_primos(numeros):\n",
        "    return [n for n in numeros if es_primo(n)]\n",
        "eros= [x for x in range(1, 20)]\n",
        "print(filtrar_primos(numeros))"
      ],
      "metadata": {
        "id": "FJU_3GnlLjlH"
      },
      "execution_count": null,
      "outputs": []
    },
    {
      "cell_type": "markdown",
      "source": [
        "##13. Crea una función que reciba un diccionario con claves &#39;nombre&#39; y &#39;edad&#39;, y retorne un mensaje con esos datos."
      ],
      "metadata": {
        "id": "LDV-PjsN-ZfY"
      }
    },
    {
      "cell_type": "code",
      "source": [
        "def generarmensajes(personas):\n",
        "    return [f\"{persona[\"nombre\"]} tiene {persona[\"edad\"]} años.\" for persona in personas]\n",
        "personas = [\n",
        "    {\"nombre\": \"Ana\", \"edad\": 25},\n",
        "    {\"nombre\": \"Luis\", \"edad\": 30},\n",
        "    {\"nombre\": \"María\", \"edad\": 22}]\n",
        "mensajes = generarmensajes(personas)\n",
        "for mensaje in mensajes:\n",
        "    print(mensaje)\n"
      ],
      "metadata": {
        "colab": {
          "base_uri": "https://localhost:8080/"
        },
        "id": "2lYi5wAw-flQ",
        "outputId": "7a026092-cca7-4f53-d24e-00a2bff6e73a"
      },
      "execution_count": null,
      "outputs": [
        {
          "output_type": "stream",
          "name": "stdout",
          "text": [
            "Ana tiene 25 años.\n",
            "Luis tiene 30 años.\n",
            "María tiene 22 años.\n"
          ]
        }
      ]
    },
    {
      "cell_type": "markdown",
      "source": [
        "##14. Crea una función que reciba un diccionario de productos (clave: nombre, valor: precio) y retorne el total."
      ],
      "metadata": {
        "id": "I1jNHecEHLFC"
      }
    },
    {
      "cell_type": "code",
      "source": [
        "def total_productos(productos: dict):\n",
        "    return sum([precio for precio in productos.values()])\n",
        "    productos = {\"Manzana\": 2.7, \"Pan\": 1, \"Leche\": 3}\n",
        "print(total_productos(productos))"
      ],
      "metadata": {
        "colab": {
          "base_uri": "https://localhost:8080/"
        },
        "id": "MHMb7I2THOgy",
        "outputId": "b3bb5922-baf1-4e86-ef66-4e7d6a576142"
      },
      "execution_count": null,
      "outputs": [
        {
          "output_type": "stream",
          "name": "stdout",
          "text": [
            "7.0\n"
          ]
        }
      ]
    },
    {
      "cell_type": "markdown",
      "source": [
        "##15. Crea una función que reciba un diccionario de estudiantes (clave: nombre, valor: nota) y retorne el promedio."
      ],
      "metadata": {
        "id": "nzOoKjcmLpQv"
      }
    },
    {
      "cell_type": "code",
      "source": [
        "def promedio_notas(estudiantes):\n",
        "    return sum([nota for nota in estudiantes.values()]) / len(estudiantes)\n",
        "estudiantes= {nombre: nota for nombre, nota in [(\"Ana\", 8), (\"Luis\", 9), (\"Marta\", 7)]}\n",
        "print(promedio_notas(estudiantes))"
      ],
      "metadata": {
        "id": "uEgryvEzLqDh",
        "outputId": "ce685c34-6f49-4e3c-883e-f76e7f8ccab5",
        "colab": {
          "base_uri": "https://localhost:8080/"
        }
      },
      "execution_count": null,
      "outputs": [
        {
          "output_type": "stream",
          "name": "stdout",
          "text": [
            "8.0\n"
          ]
        }
      ]
    },
    {
      "cell_type": "markdown",
      "source": [
        "##16. Crea una función que reciba un diccionario y un nombre, y retorne la nota si existe o &#39;no encontrado&#39;."
      ],
      "metadata": {
        "id": "7KeZGFBZ-YXR"
      }
    },
    {
      "cell_type": "code",
      "source": [
        "def obtenernota(lista, nombre):\n",
        "    resultado = [persona[\"nota\"] for persona in lista if persona[\"nombre\"] == nombre]\n",
        "    return resultado[0] if resultado else \"no encontrado\"\n",
        "estudiantes = [\n",
        "    {\"nombre\": \"Ana\", \"nota\": 85},\n",
        "    {\"nombre\": \"Luis\", \"nota\": 90},\n",
        "    {\"nombre\": \"María\", \"nota\": 78}]\n",
        "print(obtenernota(estudiantes, \"Luis\"))\n",
        "print(obtenernota(estudiantes, \"Carlos\"))"
      ],
      "metadata": {
        "colab": {
          "base_uri": "https://localhost:8080/"
        },
        "id": "al-rEZ_r-gFg",
        "outputId": "fac14989-eb01-417e-f0c0-5265e023b31c"
      },
      "execution_count": null,
      "outputs": [
        {
          "output_type": "stream",
          "name": "stdout",
          "text": [
            "90\n",
            "no encontrado\n"
          ]
        }
      ]
    },
    {
      "cell_type": "markdown",
      "source": [
        "##17. Crea una función que reciba un diccionario y retorne el nombre del estudiante con mayor nota."
      ],
      "metadata": {
        "id": "TigRbmVwHbpB"
      }
    },
    {
      "cell_type": "code",
      "source": [
        "def sin_repetidos(lista: list) -> list:\n",
        "    return list(dict.fromkeys(lista))\n",
        "datos = [1, 2, 2, 3, 4, 4, 5, 1]\n",
        "print(sin_repetidos(datos))"
      ],
      "metadata": {
        "colab": {
          "base_uri": "https://localhost:8080/"
        },
        "id": "nG_jj3iQHbep",
        "outputId": "25876701-b9c9-472a-b4c5-48bb5a78a733"
      },
      "execution_count": null,
      "outputs": [
        {
          "output_type": "stream",
          "name": "stdout",
          "text": [
            "[1, 2, 3, 4, 5]\n"
          ]
        }
      ]
    },
    {
      "cell_type": "markdown",
      "source": [
        "##18. Crea una función que reciba un diccionario de productos y retorne los productos con precios mayores a un valor dado."
      ],
      "metadata": {
        "id": "O0d1BRVbLrVn"
      }
    },
    {
      "cell_type": "code",
      "source": [
        "productos= {\"pan\": 3000, \"vino\": 12000, \"queso\": 9000, \"carne\": 15000}\n",
        "valor_limite = 10000\n",
        "productos_caros= [producto for producto, precio in productos.items() if precio > valor_limite]\n",
        "print(productos_caros)"
      ],
      "metadata": {
        "id": "F7avcu3eL0Jm"
      },
      "execution_count": null,
      "outputs": []
    },
    {
      "cell_type": "markdown",
      "source": [
        "##19. Crea una función que reciba un diccionario de empleados (clave: nombre, valor: lista de horas trabajadas) y retorne el total de horas por empleado."
      ],
      "metadata": {
        "id": "iDTOJT_7Idqx"
      }
    },
    {
      "cell_type": "code",
      "source": [
        "def total_horas(empleados: dict) -> dict:\n",
        "    return {nombre: sum(horas) for nombre, horas in empleados.items()}\n",
        "\n",
        "empleados = {\"Ana\": [8, 7, 9, 6],\"Luis\": [5, 8, 8, 7],\"María\": [9, 9, 8, 10]}\n",
        "print(total_horas(empleados))"
      ],
      "metadata": {
        "colab": {
          "base_uri": "https://localhost:8080/"
        },
        "id": "3mZFHZzGHUuq",
        "outputId": "24d5f616-171d-45c0-8553-35d08b5881c5"
      },
      "execution_count": null,
      "outputs": [
        {
          "output_type": "stream",
          "name": "stdout",
          "text": [
            "{'Ana': 30, 'Luis': 28, 'María': 36}\n"
          ]
        }
      ]
    },
    {
      "cell_type": "markdown",
      "source": [
        "##20. Crea una función que reciba un diccionario anidado con datos de estudiantes (nombre  {&#39;nota&#39;: x,&#39;edad&#39;: y}) y retorne el promedio de notas de los mayores de edad."
      ],
      "metadata": {
        "id": "TBOqFEBgJmGC"
      }
    },
    {
      "cell_type": "code",
      "source": [
        "def promedio_mayores(estudiantes: dict) -> float:\n",
        "    notas = [datos['nota'] for datos in estudiantes.values() if datos['edad'] >= 18]\n",
        "    return sum(notas) / len(notas) if notas else 0\n",
        "estudiantes = {\"Ana\": {\"nota\": 4.5, \"edad\": 17},\"Luis\": {\"nota\": 3.8, \"edad\": 18},\"María\": {\"nota\": 4.2, \"edad\": 20},\"Pedro\": {\"nota\": 2.9, \"edad\": 16}}\n",
        "print(promedio_mayores(estudiantes))"
      ],
      "metadata": {
        "id": "OWFuVaq2JlBJ",
        "outputId": "0fe8a8ed-da3e-4e84-8214-718ee3444ef7",
        "colab": {
          "base_uri": "https://localhost:8080/"
        }
      },
      "execution_count": null,
      "outputs": [
        {
          "output_type": "stream",
          "name": "stdout",
          "text": [
            "4.0\n"
          ]
        }
      ]
    }
  ]
}